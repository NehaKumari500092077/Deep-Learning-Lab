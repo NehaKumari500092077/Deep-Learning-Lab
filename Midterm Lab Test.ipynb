{
  "nbformat": 4,
  "nbformat_minor": 0,
  "metadata": {
    "colab": {
      "provenance": [],
      "include_colab_link": true
    },
    "kernelspec": {
      "name": "python3",
      "display_name": "Python 3"
    },
    "language_info": {
      "name": "python"
    }
  },
  "cells": [
    {
      "cell_type": "markdown",
      "metadata": {
        "id": "view-in-github",
        "colab_type": "text"
      },
      "source": [
        "<a href=\"https://colab.research.google.com/github/NehaKumari500092077/Deep-Learning-Lab/blob/main/Midterm%20Lab%20Test.ipynb\" target=\"_parent\"><img src=\"https://colab.research.google.com/assets/colab-badge.svg\" alt=\"Open In Colab\"/></a>"
      ]
    },
    {
      "cell_type": "markdown",
      "source": [
        "# Deep Learning Lab Midterm Questions"
      ],
      "metadata": {
        "id": "TrwytJ9O343_"
      }
    },
    {
      "cell_type": "markdown",
      "source": [
        "Import the necessary libraries"
      ],
      "metadata": {
        "id": "K8QIO4SnmSs7"
      }
    },
    {
      "cell_type": "code",
      "execution_count": null,
      "metadata": {
        "id": "8vhuehJUljZr"
      },
      "outputs": [],
      "source": []
    },
    {
      "cell_type": "markdown",
      "source": [
        "## Q.1 Load the [scene dataset](https://www.openml.org/search?type=data&sort=version&status=any&order=asc&exact_name=scene&id=40595) from OpenML using scikit-learn [fetch_openml](https://scikit-learn.org/1.5/modules/generated/sklearn.datasets.fetch_openml.html) using the dataset id (40595). Keep in mind that this is a  multi-label classification dataset.  [1 mark]"
      ],
      "metadata": {
        "id": "-pfuvMewlkIG"
      }
    },
    {
      "cell_type": "code",
      "source": [],
      "metadata": {
        "id": "utLRjsJUmVUH"
      },
      "execution_count": null,
      "outputs": []
    },
    {
      "cell_type": "markdown",
      "source": [
        "## Q.2 Partition the dataset into training (70%), validation( 15%) and test sets(15%) [1 mark]"
      ],
      "metadata": {
        "id": "vYrMN3T3nNIC"
      }
    },
    {
      "cell_type": "code",
      "source": [],
      "metadata": {
        "id": "sTamU1WJnSmB"
      },
      "execution_count": null,
      "outputs": []
    },
    {
      "cell_type": "markdown",
      "source": [
        "## Q.3 Design a neural network architecture as mentioned below: [3 marks]\n",
        "\n",
        "---\n",
        "\n",
        "\n",
        "\n",
        "**Input Layer** → **FC1 (128 neurons)** → **ReLU** → **Dropout (50%)** →  \n",
        "**FC2 (64 neurons)** → **ReLU** → **Dropout (50%)** →  \n",
        "**FC3 (32 neurons)**  → **ReLU** → **Dropout (50%)** →  \n",
        "**Output Layer (6 neurons, raw logits)**  "
      ],
      "metadata": {
        "id": "MsGB4VJtnTX-"
      }
    },
    {
      "cell_type": "code",
      "source": [],
      "metadata": {
        "id": "dQO7Xu98oJE-"
      },
      "execution_count": null,
      "outputs": []
    },
    {
      "cell_type": "markdown",
      "source": [
        "## Q.4 Design a suitable loss function for the multi-label classification task [1 mark]"
      ],
      "metadata": {
        "id": "G7rl18XPobJW"
      }
    },
    {
      "cell_type": "code",
      "source": [],
      "metadata": {
        "id": "kKtmKezyojdv"
      },
      "execution_count": null,
      "outputs": []
    },
    {
      "cell_type": "markdown",
      "source": [
        "## Q.5 Implement the Adam optimizer from scratch to train the above neural network. Consider values of parameters alpha =0.0001, beta_1=0.85, beta_2=0.98 [6 marks]"
      ],
      "metadata": {
        "id": "68lks_h-okFu"
      }
    },
    {
      "cell_type": "code",
      "source": [],
      "metadata": {
        "id": "m20amEOlozDr"
      },
      "execution_count": null,
      "outputs": []
    },
    {
      "cell_type": "markdown",
      "source": [
        "## Q.6 Train the neural network on the train dataset. [1 mark]"
      ],
      "metadata": {
        "id": "H0Tj_RToo5Gy"
      }
    },
    {
      "cell_type": "code",
      "source": [],
      "metadata": {
        "id": "3l7yxhirpFNQ"
      },
      "execution_count": null,
      "outputs": []
    },
    {
      "cell_type": "markdown",
      "source": [
        "## Q.7 Plot the training and validation loss vs epochs for model trained using scratch implementation of Adam [1 mark]"
      ],
      "metadata": {
        "id": "WkPtOfSBpKWz"
      }
    },
    {
      "cell_type": "markdown",
      "source": [],
      "metadata": {
        "id": "wUCLxG-a4p-b"
      }
    },
    {
      "cell_type": "code",
      "source": [],
      "metadata": {
        "id": "lnoNFvMUpVMn"
      },
      "execution_count": null,
      "outputs": []
    },
    {
      "cell_type": "markdown",
      "source": [
        "## Q.8 Evaluate the performance of the trained model on the test set in terms of the following: [2 marks]\n",
        "1. Subset accuracy – fraction of the samples with correctly predicted labels\n",
        "2. Macro precision and recall\n",
        "3. Micro precision and recall\n",
        "Use the corresponding metrics from sklearn to evaluate these"
      ],
      "metadata": {
        "id": "qtqLCIOWpWuE"
      }
    },
    {
      "cell_type": "code",
      "source": [],
      "metadata": {
        "id": "O8P3s_W6pZPL"
      },
      "execution_count": null,
      "outputs": []
    },
    {
      "cell_type": "markdown",
      "source": [
        "## Q.9 Train the model using PyTorch’s Adam optimizer (with the same values of alpha and beta_1, beta_2), and show the corresponding training and validation loss plots. [2 marks]"
      ],
      "metadata": {
        "id": "fczYYGynpdhX"
      }
    },
    {
      "cell_type": "code",
      "source": [],
      "metadata": {
        "id": "p7bHzJT4ph0m"
      },
      "execution_count": null,
      "outputs": []
    },
    {
      "cell_type": "markdown",
      "source": [
        "## Q.10 Compare the performance of the from scratch implementation of Adam with PyTorch’s Adam optimizer in terms of the given metrics (Subset Accuracy, micro and macro precision and recall) [2 marks]"
      ],
      "metadata": {
        "id": "75KH8DMspl1X"
      }
    },
    {
      "cell_type": "code",
      "source": [],
      "metadata": {
        "id": "QZyEHuEtpoJM"
      },
      "execution_count": null,
      "outputs": []
    }
  ]
}