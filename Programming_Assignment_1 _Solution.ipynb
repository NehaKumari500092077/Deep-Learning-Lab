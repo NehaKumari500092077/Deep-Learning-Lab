{
  "nbformat": 4,
  "nbformat_minor": 0,
  "metadata": {
    "colab": {
      "provenance": [],
      "include_colab_link": true
    },
    "kernelspec": {
      "name": "python3",
      "display_name": "Python 3"
    },
    "language_info": {
      "name": "python"
    }
  },
  "cells": [
    {
      "cell_type": "markdown",
      "metadata": {
        "id": "view-in-github",
        "colab_type": "text"
      },
      "source": [
        "<a href=\"https://colab.research.google.com/github/NehaKumari500092077/Deep-Learning-Lab/blob/main/Programming_Assignment_1%20_Solution.ipynb\" target=\"_parent\"><img src=\"https://colab.research.google.com/assets/colab-badge.svg\" alt=\"Open In Colab\"/></a>"
      ]
    },
    {
      "cell_type": "markdown",
      "source": [
        "# Assignment 1: The McCullouch-Pitts Neuron Model (20 marks)"
      ],
      "metadata": {
        "id": "jwFIE9QBrJdY"
      }
    },
    {
      "cell_type": "markdown",
      "source": [
        "## Instructions:\n",
        "\n",
        "1. The content that you submit must be your individual work.\n",
        "2. Submit your code in .py as well as in .ipynb file format. Both these file submissions are required to receive credit for this assignment.\n",
        "3. Ensure your code is well-commented and easy to follow. You can write your answers and explanations using text cells in the jupyter notebook files wherever required.\n",
        "4. The files should be named as “(roll_number)_assignment_1”. For example, if your roll number is 23AI91R01, the code file names will be 23AI91R01_assignment_1.py and 23AI91R01_assignment_1.ipynb. You should place all these files within a single .zip file (do not upload a .rar file) and upload it to Moodle as 23AI91R01_assignment_1.zip. The zip file should only contain the .py and .ipynb files, and nothing else.\n",
        "5. All submissions must be made through Moodle before the deadline. The submission portal will close at the specified time, and submissions via email would not be accepted.\n",
        "6. The .ipynb file acts as your assignment report in addition to the implementation. Therefore, ensure that the .ipynb file is clear and easy to assess. To discourage plagiarism, the .py file is used to check for plagiarism with very strict deduction criteria. Anyone trying to bypass the plagiarism check with means such as gibberish text inside the code will also experience harsh deduction.\n",
        "7. The primary TA for assignment 1 is Raj Krishan Ghosh (rajkrishanghosh@kgpian.iitkgp.ac.in). In case you have any query regarding the assignment, you can email the TA. Please do not call."
      ],
      "metadata": {
        "id": "TPNF1neAxOmY"
      }
    },
    {
      "cell_type": "markdown",
      "source": [
        "## Question 1 (3 marks)\n",
        "\n",
        "Using the MP-neuron model, implement from scratch the NAND gate with two inputs (with minumum number of MP-neurons required). Show appropriate test cases as well."
      ],
      "metadata": {
        "id": "3azffXQ9rRcQ"
      }
    },
    {
      "cell_type": "markdown",
      "source": [
        "## Solution 1"
      ],
      "metadata": {
        "id": "ocv2T8LIh3_z"
      }
    },
    {
      "cell_type": "code",
      "source": [
        "import numpy as np\n",
        "import matplotlib.pyplot as plt\n",
        "from sklearn.inspection import DecisionBoundaryDisplay\n",
        "\n",
        "# MP Neuron Model with Inhibitory Input Support\n",
        "def mp_neuron(inputs, threshold, inhibitory_indices=[]):\n",
        "  net_input = np.sum(inputs)\n",
        "  for idx in inhibitory_indices:\n",
        "    net_input = net_input - inputs[idx]\n",
        "    if inputs[idx] >= 0.5:\n",
        "      return 0\n",
        "  return 1 if net_input >= threshold else 0\n",
        "\n",
        "# Boolean Functions\n",
        "## AND Function\n",
        "def and_function(x1, x2):\n",
        "  return mp_neuron(np.array([x1, x2]), 2)\n",
        "\n",
        "## NOT Function using inhibitory input\n",
        "def not_function(x1):\n",
        "  return mp_neuron(np.array([x1]), 0, inhibitory_indices=[0])\n",
        "\n",
        "## NAND Function\n",
        "def nand_function(x1, x2):\n",
        "  neurons_required = 0\n",
        "\n",
        "  output = and_function(x1, x2)  # AND\n",
        "  neurons_required += 1\n",
        "\n",
        "  output = not_function(output)  # NOT\n",
        "  neurons_required += 1\n",
        "\n",
        "  return output, neurons_required\n",
        "\n",
        "inputs_NAND = [[0, 0], [0, 1], [1, 0], [1, 1]]\n",
        "ground_truth_NAND = [1, 1, 1, 0]\n",
        "\n",
        "outputs_NAND = []\n",
        "neurons_required_NAND = []\n",
        "for i in range(len(inputs_NAND)):\n",
        "  input = inputs_NAND[i]\n",
        "  output, neurons_required = nand_function(input[0], input[1])\n",
        "  outputs_NAND.append(output)\n",
        "  neurons_required_NAND.append(neurons_required)\n",
        "\n",
        "print(\"Inputs for NAND\")\n",
        "print(inputs_NAND)\n",
        "print(\"Ground Truth for NAND\")\n",
        "print(ground_truth_NAND)\n",
        "print(\"Outputs for NAND\")\n",
        "print(outputs_NAND)\n",
        "print(\"Neurons required for NAND\")\n",
        "print(neurons_required_NAND)"
      ],
      "metadata": {
        "colab": {
          "base_uri": "https://localhost:8080/"
        },
        "id": "F6024JEe1XwQ",
        "outputId": "b44ca67f-f0b2-4c34-a84f-5fcf17c9a29d"
      },
      "execution_count": null,
      "outputs": [
        {
          "output_type": "stream",
          "name": "stdout",
          "text": [
            "Inputs for NAND\n",
            "[[0, 0], [0, 1], [1, 0], [1, 1]]\n",
            "Ground Truth for NAND\n",
            "[1, 1, 1, 0]\n",
            "Outputs for NAND\n",
            "[1, 1, 1, 0]\n",
            "Neurons required for NAND\n",
            "[2, 2, 2, 2]\n"
          ]
        }
      ]
    },
    {
      "cell_type": "markdown",
      "source": [
        "## Question 2 (3 marks)\n",
        "\n",
        "Using the MP-neuron model, implement from scratch the NOR gate with two inputs(with minumum number of MP-neurons required). Show appropriate test cases as well."
      ],
      "metadata": {
        "id": "wUSu7IC1sL1I"
      }
    },
    {
      "cell_type": "markdown",
      "source": [
        "## Solution 2"
      ],
      "metadata": {
        "id": "n28XpCDPh_4q"
      }
    },
    {
      "cell_type": "code",
      "source": [
        "import numpy as np\n",
        "import matplotlib.pyplot as plt\n",
        "from sklearn.inspection import DecisionBoundaryDisplay\n",
        "\n",
        "# MP Neuron Model with Inhibitory Input Support\n",
        "def mp_neuron(inputs, threshold, inhibitory_indices=[]):\n",
        "  net_input = np.sum(inputs)\n",
        "  for idx in inhibitory_indices:\n",
        "    net_input = net_input - inputs[idx]\n",
        "    if inputs[idx] >= 0.5:\n",
        "      return 0\n",
        "  return 1 if net_input >= threshold else 0\n",
        "\n",
        "# Boolean Functions\n",
        "## OR Function\n",
        "def or_function(x1, x2):\n",
        "  return mp_neuron(np.array([x1, x2]), 1)\n",
        "\n",
        "## NOT Function using inhibitory input\n",
        "def not_function(x1):\n",
        "  return mp_neuron(np.array([x1]), 0, inhibitory_indices=[0])\n",
        "\n",
        "## NOR Function\n",
        "def nor_function(x1, x2):\n",
        "  neurons_required = 0\n",
        "\n",
        "  output = or_function(x1, x2)  # OR\n",
        "  neurons_required += 1\n",
        "\n",
        "  output = not_function(output)  # NOT\n",
        "  neurons_required += 1\n",
        "\n",
        "  return output, neurons_required\n",
        "\n",
        "inputs_NOR = [[0, 0], [0, 1], [1, 0], [1, 1]]\n",
        "ground_truth_NOR = [1, 0, 0, 0]\n",
        "\n",
        "outputs_NOR = []\n",
        "neurons_required_NOR = []\n",
        "for i in range(len(inputs_NOR)):\n",
        "  input = inputs_NOR[i]\n",
        "  output, neurons_required = nor_function(input[0], input[1])\n",
        "  outputs_NOR.append(output)\n",
        "  neurons_required_NOR.append(neurons_required)\n",
        "\n",
        "print(\"Inputs for NOR\")\n",
        "print(inputs_NOR)\n",
        "print(\"Ground Truth for NOR\")\n",
        "print(ground_truth_NOR)\n",
        "print(\"Outputs for NOR\")\n",
        "print(outputs_NOR)\n",
        "print(\"Neurons required for NOR\")\n",
        "print(neurons_required_NOR)"
      ],
      "metadata": {
        "colab": {
          "base_uri": "https://localhost:8080/"
        },
        "id": "uZqQ2peqUPNx",
        "outputId": "7c268144-c929-4643-a4b1-979b4b7553bd"
      },
      "execution_count": null,
      "outputs": [
        {
          "output_type": "stream",
          "name": "stdout",
          "text": [
            "Inputs for NOR\n",
            "[[0, 0], [0, 1], [1, 0], [1, 1]]\n",
            "Ground Truth for NOR\n",
            "[1, 0, 0, 0]\n",
            "Outputs for NOR\n",
            "[1, 0, 0, 0]\n",
            "Neurons required for NOR\n",
            "[2, 2, 2, 2]\n"
          ]
        }
      ]
    },
    {
      "cell_type": "markdown",
      "source": [
        "## Question 3 (3 marks)\n",
        "\n",
        "Using the MP-neuron model, implement from scratch the XOR gate with two inputs(with minumum number of MP-neurons required). Show appropriate test cases as well."
      ],
      "metadata": {
        "id": "-otrcstpsQtn"
      }
    },
    {
      "cell_type": "markdown",
      "source": [
        "## Solution 3"
      ],
      "metadata": {
        "id": "47p-2Q9oiB4T"
      }
    },
    {
      "cell_type": "code",
      "source": [
        "import numpy as np\n",
        "import matplotlib.pyplot as plt\n",
        "from sklearn.inspection import DecisionBoundaryDisplay\n",
        "\n",
        "# MP Neuron Model with Inhibitory Input Support\n",
        "def mp_neuron(inputs, threshold, inhibitory_indices=[]):\n",
        "  net_input = np.sum(inputs)\n",
        "  for idx in inhibitory_indices:\n",
        "    net_input = net_input - inputs[idx]\n",
        "    if inputs[idx] >= 0.5:\n",
        "      return 0\n",
        "  return 1 if net_input >= threshold else 0\n",
        "\n",
        "# Boolean Functions\n",
        "## OR Function\n",
        "def or_function(x1, x2):\n",
        "  return mp_neuron(np.array([x1, x2]), 1)\n",
        "\n",
        "## AND Function with inhibitory support\n",
        "def and_function_with_inhibition(x1, x2, threshold=2, inhibitory_indices=[]):\n",
        "  return mp_neuron(np.array([x1, x2]), threshold, inhibitory_indices)\n",
        "\n",
        "## XOR Function\n",
        "def xor_function(x1, x2):\n",
        "  neurons_required = 0\n",
        "\n",
        "  and_1 = and_function_with_inhibition(x1, x2, 0.5, [1])  # AND with inhibition\n",
        "  neurons_required += 1\n",
        "\n",
        "  and_2 = and_function_with_inhibition(x1, x2, 0.5, [0])  # AND with inhibition\n",
        "  neurons_required += 1\n",
        "\n",
        "  output = or_function(and_1, and_2)  # OR\n",
        "  neurons_required += 1\n",
        "\n",
        "  return output, neurons_required\n",
        "\n",
        "inputs_XOR = [[0, 0], [0, 1], [1, 0], [1, 1]]\n",
        "ground_truth_XOR = [0, 1, 1, 0]\n",
        "\n",
        "outputs_XOR = []\n",
        "neurons_required_XOR = []\n",
        "for i in range(len(inputs_XOR)):\n",
        "  input = inputs_XOR[i]\n",
        "  output, neurons_required = xor_function(input[0], input[1])\n",
        "  outputs_XOR.append(output)\n",
        "  neurons_required_XOR.append(neurons_required)\n",
        "\n",
        "print(\"Inputs for XOR\")\n",
        "print(inputs_XOR)\n",
        "print(\"Ground Truth for XOR\")\n",
        "print(ground_truth_XOR)\n",
        "print(\"Outputs for XOR\")\n",
        "print(outputs_XOR)\n",
        "print(\"Neurons required for XOR\")\n",
        "print(neurons_required_XOR)"
      ],
      "metadata": {
        "colab": {
          "base_uri": "https://localhost:8080/"
        },
        "id": "MVW_ZnrRdqvZ",
        "outputId": "47e7c2bd-300b-4b14-a8c6-4b5d8b02184b"
      },
      "execution_count": null,
      "outputs": [
        {
          "output_type": "stream",
          "name": "stdout",
          "text": [
            "Inputs for XOR\n",
            "[[0, 0], [0, 1], [1, 0], [1, 1]]\n",
            "Ground Truth for XOR\n",
            "[0, 1, 1, 0]\n",
            "Outputs for XOR\n",
            "[0, 1, 1, 0]\n",
            "Neurons required for XOR\n",
            "[3, 3, 3, 3]\n"
          ]
        }
      ]
    },
    {
      "cell_type": "markdown",
      "source": [
        "## Question 4 (6 marks)\n",
        "\n",
        "Show the decision boundary of the functions you implemented in question 1, 2 and 3, i.e. for two input NAND, NOR and XOR. What is the shape of each of the three decision boundaries, and why?"
      ],
      "metadata": {
        "id": "tfsSGHDivOKQ"
      }
    },
    {
      "cell_type": "markdown",
      "source": [
        "## Solution 4"
      ],
      "metadata": {
        "id": "NSlY8-wZiEBS"
      }
    },
    {
      "cell_type": "code",
      "source": [
        "# NAND\n",
        "\n",
        "inputs_NAND = np.array([[0, 0], [0, 1], [1, 0], [1, 1]])\n",
        "outputs_NAND = np.array([nand_function(x[0], x[1])[0] for x in inputs_NAND])\n",
        "\n",
        "# Generate grid points for decision boundary\n",
        "xx, yy = np.meshgrid(np.linspace(-0.5, 1.5, 100), np.linspace(-0.5, 1.5, 100))\n",
        "Z = np.array([nand_function(xi, yi)[0] for xi, yi in zip(xx.ravel(), yy.ravel())])\n",
        "Z = Z.reshape(xx.shape)\n",
        "\n",
        "# Plot decision boundary using DecisionBoundaryDisplay\n",
        "disp = DecisionBoundaryDisplay(xx0=xx, xx1=yy, response=Z)\n",
        "disp.plot(cmap=plt.cm.Paired, alpha=0.5)\n",
        "plt.scatter(inputs_NAND[:, 0], inputs_NAND[:, 1], c=outputs_NAND, edgecolor=\"k\", cmap=plt.cm.Paired)\n",
        "plt.title(\"MP-Neuron: NAND Decision Boundary\")\n",
        "plt.xlabel('Input 1')\n",
        "plt.ylabel('Input 2')\n",
        "plt.show()"
      ],
      "metadata": {
        "colab": {
          "base_uri": "https://localhost:8080/",
          "height": 472
        },
        "id": "OMaat26Efzr5",
        "outputId": "63cd4eec-4e8c-495f-f7fe-51fd2fc46552"
      },
      "execution_count": null,
      "outputs": [
        {
          "output_type": "display_data",
          "data": {
            "text/plain": [
              "<Figure size 640x480 with 1 Axes>"
            ],
            "image/png": "[encoded data removed]"
          },
          "metadata": {}
        }
      ]
    },
    {
      "cell_type": "code",
      "source": [
        "# NOR\n",
        "\n",
        "inputs_NOR = np.array([[0, 0], [0, 1], [1, 0], [1, 1]])\n",
        "outputs_NOR = np.array([nor_function(x[0], x[1])[0] for x in inputs_NOR])\n",
        "\n",
        "# Generate grid points for decision boundary\n",
        "xx, yy = np.meshgrid(np.linspace(-0.5, 1.5, 100), np.linspace(-0.5, 1.5, 100))\n",
        "Z = np.array([nor_function(xi, yi)[0] for xi, yi in zip(xx.ravel(), yy.ravel())])\n",
        "Z = Z.reshape(xx.shape)\n",
        "\n",
        "# Plot decision boundary using DecisionBoundaryDisplay\n",
        "disp = DecisionBoundaryDisplay(xx0=xx, xx1=yy, response=Z)\n",
        "disp.plot(cmap=plt.cm.Paired, alpha=0.5)\n",
        "plt.scatter(inputs_NOR[:, 0], inputs_NOR[:, 1], c=outputs_NOR, edgecolor=\"k\", cmap=plt.cm.Paired)\n",
        "plt.title(\"MP-Neuron: NOR Decision Boundary\")\n",
        "plt.xlabel('Input 1')\n",
        "plt.ylabel('Input 2')\n",
        "plt.show()"
      ],
      "metadata": {
        "colab": {
          "base_uri": "https://localhost:8080/",
          "height": 472
        },
        "id": "53vklQsJghVX",
        "outputId": "98649e4f-4e3d-4d2c-cec2-a805ed599413"
      },
      "execution_count": null,
      "outputs": [
        {
          "output_type": "display_data",
          "data": {
            "text/plain": [
              "<Figure size 640x480 with 1 Axes>"
            ],
            "image/png": "[encoded data removed]"
          },
          "metadata": {}
        }
      ]
    },
    {
      "cell_type": "code",
      "source": [
        "# XOR\n",
        "\n",
        "inputs_XOR = np.array([[0, 0], [0, 1], [1, 0], [1, 1]])\n",
        "outputs_XOR = np.array([xor_function(x[0], x[1])[0] for x in inputs_XOR])\n",
        "\n",
        "# Generate grid points for decision boundary\n",
        "xx, yy = np.meshgrid(np.linspace(-0.5, 1.5, 100), np.linspace(-0.5, 1.5, 100))\n",
        "Z = np.array([xor_function(xi, yi)[0] for xi, yi in zip(xx.ravel(), yy.ravel())])\n",
        "Z = Z.reshape(xx.shape)\n",
        "\n",
        "# Plot decision boundary using DecisionBoundaryDisplay\n",
        "disp = DecisionBoundaryDisplay(xx0=xx, xx1=yy, response=Z)\n",
        "disp.plot(cmap=plt.cm.Paired, alpha=0.5)\n",
        "plt.scatter(inputs_XOR[:, 0], inputs_XOR[:, 1], c=outputs_XOR, edgecolor=\"k\", cmap=plt.cm.Paired)\n",
        "plt.title(\"MP-Neuron: XOR Decision Boundary\")\n",
        "plt.xlabel('Input 1')\n",
        "plt.ylabel('Input 2')\n",
        "plt.show()"
      ],
      "metadata": {
        "colab": {
          "base_uri": "https://localhost:8080/",
          "height": 472
        },
        "id": "jl26Q2OZhWzu",
        "outputId": "5dbabe8a-7b3b-40e4-93e4-fd6233a77e32"
      },
      "execution_count": null,
      "outputs": [
        {
          "output_type": "display_data",
          "data": {
            "text/plain": [
              "<Figure size 640x480 with 1 Axes>"
            ],
            "image/png": "[encoded data removed]"
          },
          "metadata": {}
        }
      ]
    },
    {
      "cell_type": "markdown",
      "source": [
        "The shape of each of the decision boundaries (with explanation) is as follows:\n",
        "1. The decision boundary for NAND gate is a line with the equation x_1 + x_2 = 2, such that output is 0 for x_1 + x_2 >= 2 and output is 1 for x_1 + x_2 < 2. This is because the threshold value is at 2.0, and NAND gate is constructed by AND gate followed by NOT gate.\n",
        "1. The decision boundary for NOR gate is a line with the equation x_1 + x_2 = 1, such that output is 0 for x_1 + x_2 >= 1 and output is 1 for x_1 + x_2 < 1. This is because the threshold value is at 1.0, and NOR gate is constructed by OR gate followed by NOT gate.\n",
        "2. The decision boundary for XOR gate is two different lines having equations x_1 = 0.5 and x_2 = 0.5, intersecting at (x_1, x_2) = (0.5, 0.5), such that the output is 1 for regions on the upper left and lower right of the intersection, and output is 0 for regions on the upper right and lower left of the intersection. This is because of the thresholding values and the nature of XOR gate where the output is 1 only when an odd number of inputs are 1."
      ],
      "metadata": {
        "id": "NGhESDbYiGsc"
      }
    },
    {
      "cell_type": "markdown",
      "source": [
        "## Question 5 (5 marks)\n",
        "\n",
        "Generalize the XOR function implemented in question 3 to accept more than 2 inputs (i.e. n inputs in general) in a computationally efficient manner, i.e. your implementation should not use more than the minimum number of MP neurons required. Demonstrate your results using n=3 and n=4, respectively (using test cases)."
      ],
      "metadata": {
        "id": "G18rgMc_vl7s"
      }
    },
    {
      "cell_type": "markdown",
      "source": [
        "## Solution 5"
      ],
      "metadata": {
        "id": "pEcNF02PnHtk"
      }
    },
    {
      "cell_type": "code",
      "source": [
        "import numpy as np\n",
        "import matplotlib.pyplot as plt\n",
        "from sklearn.inspection import DecisionBoundaryDisplay\n",
        "\n",
        "# MP Neuron Model with Inhibitory Input Support\n",
        "def mp_neuron(inputs, threshold, inhibitory_indices=[]):\n",
        "  net_input = np.sum(inputs)\n",
        "  for idx in inhibitory_indices:\n",
        "    if inputs[idx] >= 0.5:\n",
        "      return 0\n",
        "  return 1 if net_input >= threshold else 0\n",
        "\n",
        "# Boolean Functions\n",
        "## OR Function\n",
        "def or_function(x1, x2):\n",
        "  return mp_neuron(np.array([x1, x2]), 1)\n",
        "\n",
        "## AND Function with inhibitory support\n",
        "def and_function_with_inhibition(x1, x2, threshold=2, inhibitory_indices=[]):\n",
        "  return mp_neuron(np.array([x1, x2]), threshold, inhibitory_indices)\n",
        "\n",
        "def xor_function(x1, x2):\n",
        "  neurons_required = 0\n",
        "\n",
        "  and_1 = and_function_with_inhibition(x1, x2, 1, [1])  # AND with inhibition\n",
        "  neurons_required += 1\n",
        "\n",
        "  and_2 = and_function_with_inhibition(x1, x2, 1, [0])  # AND with inhibition\n",
        "  neurons_required += 1\n",
        "\n",
        "  output = or_function(and_1, and_2)  # OR\n",
        "  neurons_required += 1\n",
        "\n",
        "  return output, neurons_required\n",
        "\n",
        "## n-input XOR Function\n",
        "def n_input_xor_function(x):\n",
        "  neurons_required = 0\n",
        "\n",
        "  output = x[0]\n",
        "  for i in range(1, len(x)):\n",
        "\n",
        "    and_1 = and_function_with_inhibition(output, x[i], 1, [1])  # AND with inhibition\n",
        "    neurons_required += 1\n",
        "\n",
        "    and_2 = and_function_with_inhibition(output, x[i], 1, [0])  # AND with inhibition\n",
        "    neurons_required += 1\n",
        "\n",
        "    output = or_function(and_1, and_2)  # OR\n",
        "    neurons_required += 1\n",
        "\n",
        "  return output, neurons_required\n",
        "\n",
        "inputs_XOR_3_inputs = [[0, 0, 0], [0, 0, 1], [0, 1, 0], [0, 1, 1], [1, 0, 0], [1, 0, 1], [1, 1, 0], [1, 1, 1]]\n",
        "ground_truth_XOR_3_inputs = [0, 1, 1, 0, 1, 0, 0, 1]\n",
        "\n",
        "outputs_XOR_3_inputs = []\n",
        "neurons_required_XOR_3_inputs = []\n",
        "for i in range(len(inputs_XOR_3_inputs)):\n",
        "  input = inputs_XOR_3_inputs[i]\n",
        "  output, neurons_required = n_input_xor_function(input)\n",
        "  outputs_XOR_3_inputs.append(output)\n",
        "  neurons_required_XOR_3_inputs.append(neurons_required)\n",
        "\n",
        "print(\"Inputs for 3 input XOR\")\n",
        "print(inputs_XOR_3_inputs)\n",
        "print(\"Ground Truth for 3 input XOR\")\n",
        "print(ground_truth_XOR_3_inputs)\n",
        "print(\"Outputs for 3 input XOR\")\n",
        "print(outputs_XOR_3_inputs)\n",
        "print(\"Neurons required for 3 input XOR\")\n",
        "print(neurons_required_XOR_3_inputs)\n",
        "\n",
        "inputs_XOR_4_inputs = [[0, 0, 0, 0], [0, 0, 0, 1], [0, 0, 1, 0], [0, 0, 1, 1], [0, 1, 0, 0], [0, 1, 0, 1], [0, 1, 1, 0], [0, 1, 1, 1], [1, 0, 0, 0], [1, 0, 0, 1], [1, 0, 1, 0], [1, 0, 1, 1], [1, 1, 0, 0], [1, 1, 0, 1], [1, 1, 1, 0], [1, 1, 1, 1]]\n",
        "ground_truth_XOR_4_inputs = [0, 1, 1, 0, 1, 0, 0, 1, 1, 0, 0, 1, 0, 1, 1, 0]\n",
        "\n",
        "outputs_XOR_4_inputs = []\n",
        "neurons_required_XOR_4_inputs = []\n",
        "for i in range(len(inputs_XOR_4_inputs)):\n",
        "  input = inputs_XOR_4_inputs[i]\n",
        "  output, neurons_required = n_input_xor_function(input)\n",
        "  outputs_XOR_4_inputs.append(output)\n",
        "  neurons_required_XOR_4_inputs.append(neurons_required)\n",
        "\n",
        "print(\"Inputs for 4 input XOR\")\n",
        "print(inputs_XOR_4_inputs)\n",
        "print(\"Ground Truth for 4 input XOR\")\n",
        "print(ground_truth_XOR_4_inputs)\n",
        "print(\"Outputs for 4 input XOR\")\n",
        "print(outputs_XOR_4_inputs)\n",
        "print(\"Neurons required for 4 input XOR\")\n",
        "print(neurons_required_XOR_4_inputs)"
      ],
      "metadata": {
        "colab": {
          "base_uri": "https://localhost:8080/"
        },
        "id": "zSCFqRLMnJws",
        "outputId": "95016b8c-fe86-486c-b1ff-11851ff20008"
      },
      "execution_count": null,
      "outputs": [
        {
          "output_type": "stream",
          "name": "stdout",
          "text": [
            "Inputs for 3 input XOR\n",
            "[[0, 0, 0], [0, 0, 1], [0, 1, 0], [0, 1, 1], [1, 0, 0], [1, 0, 1], [1, 1, 0], [1, 1, 1]]\n",
            "Ground Truth for 3 input XOR\n",
            "[0, 1, 1, 0, 1, 0, 0, 1]\n",
            "Outputs for 3 input XOR\n",
            "[0, 1, 1, 0, 1, 0, 0, 1]\n",
            "Neurons required for 3 input XOR\n",
            "[6, 6, 6, 6, 6, 6, 6, 6]\n",
            "Inputs for 4 input XOR\n",
            "[[0, 0, 0, 0], [0, 0, 0, 1], [0, 0, 1, 0], [0, 0, 1, 1], [0, 1, 0, 0], [0, 1, 0, 1], [0, 1, 1, 0], [0, 1, 1, 1], [1, 0, 0, 0], [1, 0, 0, 1], [1, 0, 1, 0], [1, 0, 1, 1], [1, 1, 0, 0], [1, 1, 0, 1], [1, 1, 1, 0], [1, 1, 1, 1]]\n",
            "Ground Truth for 4 input XOR\n",
            "[0, 1, 1, 0, 1, 0, 0, 1, 1, 0, 0, 1, 0, 1, 1, 0]\n",
            "Outputs for 4 input XOR\n",
            "[0, 1, 1, 0, 1, 0, 0, 1, 1, 0, 0, 1, 0, 1, 1, 0]\n",
            "Neurons required for 4 input XOR\n",
            "[9, 9, 9, 9, 9, 9, 9, 9, 9, 9, 9, 9, 9, 9, 9, 9]\n"
          ]
        }
      ]
    },
    {
      "cell_type": "code",
      "source": [],
      "metadata": {
        "id": "KWUq7t6xX13S"
      },
      "execution_count": null,
      "outputs": []
    }
  ]
}