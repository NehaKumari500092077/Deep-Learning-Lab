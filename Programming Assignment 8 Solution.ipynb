{
  "cells": [
    {
      "cell_type": "markdown",
      "metadata": {
        "id": "view-in-github",
        "colab_type": "text"
      },
      "source": [
        "<a href=\"https://colab.research.google.com/github/NehaKumari500092077/Deep-Learning-Lab/blob/main/Programming%20Assignment%208%20Solution.ipynb\" target=\"_parent\"><img src=\"https://colab.research.google.com/assets/colab-badge.svg\" alt=\"Open In Colab\"/></a>"
      ]
    },
    {
      "cell_type": "markdown",
      "metadata": {
        "id": "WZFGlhWWl6dM"
      },
      "source": [
        "## Get all the imports"
      ]
    },
    {
      "cell_type": "code",
      "execution_count": null,
      "metadata": {
        "id": "apVzWngKgadP",
        "colab": {
          "base_uri": "https://localhost:8080/"
        },
        "outputId": "c6931dd4-da19-4f9b-8f14-42c557d5969e"
      },
      "outputs": [
        {
          "output_type": "stream",
          "name": "stderr",
          "text": [
            "[nltk_data] Downloading package punkt_tab to /root/nltk_data...\n",
            "[nltk_data]   Package punkt_tab is already up-to-date!\n",
            "[nltk_data] Downloading package stopwords to /root/nltk_data...\n",
            "[nltk_data]   Package stopwords is already up-to-date!\n"
          ]
        }
      ],
      "source": [
        "import pandas as pd\n",
        "import numpy as np\n",
        "import torch\n",
        "torch.manual_seed(27)\n",
        "import random\n",
        "random.seed(27)\n",
        "from tqdm import tqdm\n",
        "from sklearn.model_selection import train_test_split\n",
        "from sklearn.datasets import fetch_20newsgroups\n",
        "import matplotlib.pyplot as plt\n",
        "import seaborn as sns\n",
        "sns.set_theme(style=\"ticks\")\n",
        "from collections import Counter\n",
        "from torch.utils.data import TensorDataset, DataLoader\n",
        "from copy import deepcopy\n",
        "from sklearn.metrics import accuracy_score, precision_score, confusion_matrix\n",
        "import nltk\n",
        "from nltk.corpus import stopwords\n",
        "nltk.download('punkt_tab')\n",
        "nltk.download('stopwords')\n",
        "from nltk.tokenize import word_tokenize"
      ]
    },
    {
      "cell_type": "markdown",
      "metadata": {
        "id": "DKKdn860udOV"
      },
      "source": [
        "## Define the text pre-processing pipeline"
      ]
    },
    {
      "cell_type": "code",
      "execution_count": null,
      "metadata": {
        "id": "gfvMjXiQuhv_"
      },
      "outputs": [],
      "source": [
        "# Pre-process text by removing stopwords, punctuations, adding special tokens\n",
        "# and setting all samples to the same length for efficient batching of data\n",
        "def text_preprocess_pipeline(text_list, max_len=32):\n",
        "    # Get the stopwords\n",
        "    stop_words = set(stopwords.words('english'))\n",
        "    text_list_processed = list()\n",
        "    for text in tqdm(text_list, desc=\"Pre-processing Data\"):\n",
        "        # Convert to lowercase and remove leading and trailing spaces\n",
        "        text = text.lower().strip()\n",
        "        # Tokenize the text\n",
        "        tokens = word_tokenize(text)\n",
        "        # Remove stopwords and punctuations\n",
        "        cleaned_tokens = [token for token in tokens if (token not in stop_words and token.isalpha())]\n",
        "        # Chop text size to max length\n",
        "        cleaned_tokens = cleaned_tokens[:max_len-1]\n",
        "        # Append special token to denote end of sentence\n",
        "        cleaned_tokens.append(\"<eos>\")\n",
        "        # Append <pad> token if required to achieve fixed length for each sample\n",
        "        if len(cleaned_tokens) < max_len:\n",
        "            cleaned_tokens+= [\"<pad>\" for i in range(max_len-len(cleaned_tokens))]\n",
        "        # Finally save the cleaned text\n",
        "        text_list_processed.append(cleaned_tokens)\n",
        "    return text_list_processed"
      ]
    },
    {
      "cell_type": "markdown",
      "source": [
        "## Define a function to generate a vocabulary and convert tokens to ids"
      ],
      "metadata": {
        "id": "Njtq0TZJZUdd"
      }
    },
    {
      "cell_type": "code",
      "source": [
        "# Generate vocabulary and convert text to ids\n",
        "def convert_text_to_idx(text_list_tokenized, create_vocab=True, token_to_idx=None):\n",
        "    # This will save all the ids corresponding to each token\n",
        "    if create_vocab:\n",
        "        token_to_idx = {\"<pad>\": 0, \"<eos>\": 1, \"<unk>\": 2}\n",
        "        # This will save all tokens corresponding to each id\n",
        "        idx_to_token = dict([[value, key] for key, value in token_to_idx.items()])\n",
        "        # This counter determines the id for each token\n",
        "        idx_counter = 3\n",
        "    # This will save the frequency of each token\n",
        "    token_freq = dict([[key, 0] for key in token_to_idx.keys()])\n",
        "    # All tokenized sentences converted to ids will be saved here\n",
        "    text_list_converted = list()\n",
        "\n",
        "    # Generate the vocab and convert to ids\n",
        "    for text_tokenized in tqdm(text_list_tokenized, desc=\"Generating vocab and converting to ids\"):\n",
        "        tokens_as_ids = list()\n",
        "        for token in text_tokenized:\n",
        "            if token not in token_to_idx:\n",
        "                # If token does not exist in vocab and we have to generate the vocab\n",
        "                # Then add it to the vocab and assign a unique id\n",
        "                if create_vocab:\n",
        "                    token_to_idx[token] = idx_counter\n",
        "                    idx_to_token[idx_counter] = token\n",
        "                    token_freq[token] = 1\n",
        "                    idx_counter+=1\n",
        "                # If token does not exist in vocab and we are not creating the vocab\n",
        "                # Then assign the special token <unk>\n",
        "                else:\n",
        "                    token = \"<unk>\"\n",
        "                    token_freq[token]+=1\n",
        "            # If token exists in vocab then increase its frequency\n",
        "            else:\n",
        "                token_freq[token]+=1\n",
        "            tokens_as_ids.append(token_to_idx[token])\n",
        "        text_list_converted.append(tokens_as_ids)\n",
        "    # Return the list and all three dictionaries\n",
        "    if create_vocab:\n",
        "        return text_list_converted, token_to_idx, idx_to_token, token_freq\n",
        "    else:\n",
        "        return text_list_converted, token_freq"
      ],
      "metadata": {
        "id": "aCaEe8pyZWMe"
      },
      "execution_count": null,
      "outputs": []
    },
    {
      "cell_type": "markdown",
      "metadata": {
        "id": "NdWjYb1wmGiU"
      },
      "source": [
        "## Load the data, pre-process and split into train and validation"
      ]
    },
    {
      "cell_type": "code",
      "execution_count": null,
      "metadata": {
        "id": "rJ-73N1CiG99",
        "colab": {
          "base_uri": "https://localhost:8080/"
        },
        "outputId": "5976ff46-333a-4e5f-ce6d-14b0a32e6c38"
      },
      "outputs": [
        {
          "output_type": "stream",
          "name": "stderr",
          "text": [
            "Pre-processing Data: 100%|██████████| 11314/11314 [00:24<00:00, 464.63it/s]\n"
          ]
        },
        {
          "output_type": "stream",
          "name": "stdout",
          "text": [
            "\n",
            "The first tokenized sentence in the train set\n",
            " ['salmon', 'david', 'salmon', 'subject', 'help', 'scsi', 'woes', 'mac', 'iifx', 'organization', 'university', 'nebraska', 'omaha', 'lines', 'according', 'official', 'documentation', 'failure', 'use', 'iifx', 'terminator', 'affect', 'scsi', 'bus', 'performance', 'also', 'damage', 'bus', 'whether', 'problem', 'know', 'sporadic', 'scsi', 'problems', 'iifx', 'since', 'bought', 'connect', 'three', 'devices', 'fourth', 'one', 'causes', 'major', 'problems', 'first', 'thing', 'try', 'reformat', 'drive', 'someone', 'elses', 'system', 'continue', 'get', 'errors', 'probably', 'drive', 'formats', 'fine', 'would', 'try', 'format', 'system', 'externals', 'fails', 'scsi', 'controller', 'iifx', 'needs', 'hope', 'helps', 'david', 'salmon', 'salmon', '<eos>', '<pad>', '<pad>', '<pad>', '<pad>', '<pad>', '<pad>', '<pad>', '<pad>', '<pad>', '<pad>', '<pad>', '<pad>', '<pad>', '<pad>', '<pad>', '<pad>', '<pad>', '<pad>', '<pad>', '<pad>', '<pad>', '<pad>', '<pad>', '<pad>', '<pad>', '<pad>', '<pad>', '<pad>', '<pad>', '<pad>', '<pad>', '<pad>', '<pad>', '<pad>', '<pad>', '<pad>', '<pad>', '<pad>', '<pad>', '<pad>', '<pad>', '<pad>', '<pad>', '<pad>', '<pad>', '<pad>', '<pad>', '<pad>', '<pad>', '<pad>', '<pad>', '<pad>', '<pad>', '<pad>', '<pad>', '<pad>', '<pad>', '<pad>', '<pad>', '<pad>', '<pad>', '<pad>', '<pad>', '<pad>', '<pad>', '<pad>', '<pad>', '<pad>', '<pad>', '<pad>', '<pad>', '<pad>', '<pad>', '<pad>'] \n",
            " The total number of samples in train set 9051\n",
            "\n",
            "The first tokenized sentence in the validation set\n",
            " ['vlad', 'vladimir', 'kuznetsov', 'subject', 'many', 'homosexuals', 'organization', 'netcom', 'online', 'communication', 'services', 'guest', 'distribution', 'usa', 'lines', 'article', 'kaldis', 'theodore', 'kaldis', 'writes', 'perhaps', 'likely', 'new', 'study', 'discrediting', 'kinsey', 'says', 'yes', 'saw', 'today', 'news', 'kcbs', 'san', 'francisco', 'statistic', 'quoted', 'men', 'sex', 'another', 'man', 'cinsider', 'themself', 'homosexual', 'understand', 'course', 'statistic', 'goes', 'common', 'believe', 'must', 'complete', 'bs', 'thx', 'vlad', 'vladimir', 'kuznetsov', 'natural', 'intelligence', 'consulting', 'vlad', 'vkuznetsov', '<eos>', '<pad>', '<pad>', '<pad>', '<pad>', '<pad>', '<pad>', '<pad>', '<pad>', '<pad>', '<pad>', '<pad>', '<pad>', '<pad>', '<pad>', '<pad>', '<pad>', '<pad>', '<pad>', '<pad>', '<pad>', '<pad>', '<pad>', '<pad>', '<pad>', '<pad>', '<pad>', '<pad>', '<pad>', '<pad>', '<pad>', '<pad>', '<pad>', '<pad>', '<pad>', '<pad>', '<pad>', '<pad>', '<pad>', '<pad>', '<pad>', '<pad>', '<pad>', '<pad>', '<pad>', '<pad>', '<pad>', '<pad>', '<pad>', '<pad>', '<pad>', '<pad>', '<pad>', '<pad>', '<pad>', '<pad>', '<pad>', '<pad>', '<pad>', '<pad>', '<pad>', '<pad>', '<pad>', '<pad>', '<pad>', '<pad>', '<pad>', '<pad>', '<pad>', '<pad>', '<pad>', '<pad>', '<pad>', '<pad>', '<pad>', '<pad>', '<pad>', '<pad>', '<pad>', '<pad>', '<pad>', '<pad>', '<pad>', '<pad>', '<pad>', '<pad>', '<pad>', '<pad>', '<pad>'] \n",
            " The total number of samples in validation set 2263 \n",
            "\n",
            "\n"
          ]
        },
        {
          "output_type": "stream",
          "name": "stderr",
          "text": [
            "Generating vocab and converting to ids: 100%|██████████| 9051/9051 [00:00<00:00, 19758.26it/s]\n",
            "Generating vocab and converting to ids: 100%|██████████| 2263/2263 [00:00<00:00, 23667.74it/s]\n"
          ]
        },
        {
          "output_type": "stream",
          "name": "stdout",
          "text": [
            "\n",
            "The first id based sentence in the train set\n",
            " [3, 4, 3, 5, 6, 7, 8, 9, 10, 11, 12, 13, 14, 15, 16, 17, 18, 19, 20, 10, 21, 22, 7, 23, 24, 25, 26, 23, 27, 28, 29, 30, 7, 31, 10, 32, 33, 34, 35, 36, 37, 38, 39, 40, 31, 41, 42, 43, 44, 45, 46, 47, 48, 49, 50, 51, 52, 45, 53, 54, 55, 43, 56, 48, 57, 58, 7, 59, 10, 60, 61, 62, 4, 3, 3, 1, 0, 0, 0, 0, 0, 0, 0, 0, 0, 0, 0, 0, 0, 0, 0, 0, 0, 0, 0, 0, 0, 0, 0, 0, 0, 0, 0, 0, 0, 0, 0, 0, 0, 0, 0, 0, 0, 0, 0, 0, 0, 0, 0, 0, 0, 0, 0, 0, 0, 0, 0, 0, 0, 0, 0, 0, 0, 0, 0, 0, 0, 0, 0, 0, 0, 0, 0, 0, 0, 0, 0, 0, 0, 0]\n",
            "\n",
            "The first id based sentence in the validation set\n",
            " [35769, 7997, 2, 5, 76, 7234, 11, 2824, 2159, 2140, 2160, 2825, 267, 167, 15, 174, 20979, 14905, 20979, 177, 1400, 1793, 553, 554, 20980, 585, 797, 864, 1371, 687, 406, 2, 1302, 1303, 16532, 4821, 582, 573, 953, 1251, 41281, 29781, 592, 3188, 289, 16532, 5193, 3214, 281, 665, 4741, 3192, 24096, 35769, 7997, 2, 457, 2562, 2048, 35769, 2, 1, 0, 0, 0, 0, 0, 0, 0, 0, 0, 0, 0, 0, 0, 0, 0, 0, 0, 0, 0, 0, 0, 0, 0, 0, 0, 0, 0, 0, 0, 0, 0, 0, 0, 0, 0, 0, 0, 0, 0, 0, 0, 0, 0, 0, 0, 0, 0, 0, 0, 0, 0, 0, 0, 0, 0, 0, 0, 0, 0, 0, 0, 0, 0, 0, 0, 0, 0, 0, 0, 0, 0, 0, 0, 0, 0, 0, 0, 0, 0, 0, 0, 0, 0, 0, 0, 0, 0, 0] \n",
            "\n",
            "\n",
            "\n",
            "\n",
            "\n",
            "Top 10 most frequent tokens in the Train set:\n",
            " [('<pad>', 506984), ('subject', 9454), ('lines', 9353), ('<eos>', 9051), ('organization', 8862), ('writes', 6250), ('would', 5243), ('article', 5205), ('one', 4613), ('university', 4049)]\n",
            "\n",
            "\n",
            "Top 10 most frequent tokens in the Validation set:\n",
            " [('<pad>', 123951), ('<unk>', 6631), ('subject', 2370), ('lines', 2312), ('<eos>', 2263), ('organization', 2214), ('writes', 1547), ('article', 1332), ('would', 1309), ('one', 1061)]\n"
          ]
        },
        {
          "output_type": "stream",
          "name": "stderr",
          "text": [
            "Pre-processing Data: 100%|██████████| 7532/7532 [00:18<00:00, 415.16it/s]\n",
            "Generating vocab and converting to ids: 100%|██████████| 7532/7532 [00:00<00:00, 15773.96it/s]"
          ]
        },
        {
          "output_type": "stream",
          "name": "stdout",
          "text": [
            "\n",
            "The first id based sentence in the test set\n",
            " [3531, 3532, 5, 66, 1500, 31306, 11, 12, 10155, 15, 5929, 708, 13850, 3407, 2, 308, 6130, 5657, 2, 40009, 2, 732, 46, 331, 3352, 383, 5607, 24, 25, 2928, 29, 4027, 1039, 9045, 1157, 102, 607, 4027, 1039, 4290, 50, 742, 102, 249, 122, 179, 308, 1898, 4050, 1830, 122, 1015, 3531, 3532, 1, 0, 0, 0, 0, 0, 0, 0, 0, 0, 0, 0, 0, 0, 0, 0, 0, 0, 0, 0, 0, 0, 0, 0, 0, 0, 0, 0, 0, 0, 0, 0, 0, 0, 0, 0, 0, 0, 0, 0, 0, 0, 0, 0, 0, 0, 0, 0, 0, 0, 0, 0, 0, 0, 0, 0, 0, 0, 0, 0, 0, 0, 0, 0, 0, 0, 0, 0, 0, 0, 0, 0, 0, 0, 0, 0, 0, 0, 0, 0, 0, 0, 0, 0, 0, 0, 0, 0, 0, 0, 0, 0, 0, 0, 0, 0]\n",
            "\n",
            "\n",
            "Top 10 most frequent tokens in the Test set:\n",
            " [('<pad>', 424917), ('<unk>', 32989), ('subject', 7931), ('lines', 7750), ('<eos>', 7532), ('organization', 7391), ('writes', 5466), ('article', 4595), ('would', 4485), ('one', 3621)]\n"
          ]
        },
        {
          "output_type": "stream",
          "name": "stderr",
          "text": [
            "\n"
          ]
        }
      ],
      "source": [
        "num_classes = 20\n",
        "seq_len = 150\n",
        "\n",
        "train = fetch_20newsgroups(subset='train')\n",
        "test = fetch_20newsgroups(subset='test')\n",
        "\n",
        "# Pre-process the data\n",
        "X = text_preprocess_pipeline(train.data, seq_len)\n",
        "# Now Split the data into train and val\n",
        "X_train, X_val, Y_train, Y_val = train_test_split(X, train.target, test_size=0.2, random_state=27, stratify=train.target)\n",
        "print(\"\\nThe first tokenized sentence in the train set\\n\", X_train[0], \"\\n The total number of samples in train set\", len(X_train))\n",
        "print(\"\\nThe first tokenized sentence in the validation set\\n\", X_val[0], \"\\n The total number of samples in validation set\", len(X_val), \"\\n\\n\")\n",
        "# Convert text to ids\n",
        "X_train, token_to_idx, idx_to_token, token_freq_train = convert_text_to_idx(X_train, create_vocab=True, token_to_idx=None)\n",
        "X_val, token_freq_val = convert_text_to_idx(X_val, create_vocab=False, token_to_idx=token_to_idx)\n",
        "print(\"\\nThe first id based sentence in the train set\\n\", X_train[0])\n",
        "print(\"\\nThe first id based sentence in the validation set\\n\", X_val[0], \"\\n\\n\")\n",
        "# Check out the top 10 tokens in each set\n",
        "token_freq_train = Counter(token_freq_train)\n",
        "print(\"\\n\\n\\nTop 10 most frequent tokens in the Train set:\\n\", token_freq_train.most_common(10))\n",
        "token_freq_val = Counter(token_freq_val)\n",
        "print(\"\\n\\nTop 10 most frequent tokens in the Validation set:\\n\", token_freq_val.most_common(10))\n",
        "\n",
        "# Do the same for test data as well\n",
        "# Pre-process the data\n",
        "X = text_preprocess_pipeline(test.data, seq_len)\n",
        "# Convert text to ids\n",
        "X_test, token_freq_test = convert_text_to_idx(X, create_vocab=False, token_to_idx=token_to_idx)\n",
        "Y_test = test.target\n",
        "print(\"\\nThe first id based sentence in the test set\\n\", X_test[0])\n",
        "# Check out the most common words\n",
        "token_freq_test = Counter(token_freq_test)\n",
        "print(\"\\n\\nTop 10 most frequent tokens in the Test set:\\n\", token_freq_test.most_common(10))"
      ]
    },
    {
      "cell_type": "markdown",
      "metadata": {
        "id": "n2t7I5yOuSWM"
      },
      "source": [
        "## Visualizing the class distribution"
      ]
    },
    {
      "cell_type": "code",
      "execution_count": null,
      "metadata": {
        "colab": {
          "base_uri": "https://localhost:8080/",
          "height": 496
        },
        "id": "3YebaOEUrnKD",
        "outputId": "2a127c2b-78ce-4c6f-a053-ddab48ee1f01"
      },
      "outputs": [
        {
          "output_type": "execute_result",
          "data": {
            "text/plain": [
              "Text(0, 0.5, 'Frequency')"
            ]
          },
          "metadata": {},
          "execution_count": 39
        },
        {
          "output_type": "display_data",
          "data": {
            "text/plain": [
              "<Figure size 1000x500 with 1 Axes>"
            ],
            "image/png": "[encoded data removed]"
          },
          "metadata": {}
        }
      ],
      "source": [
        "class_counts = Counter(Y_train.tolist())\n",
        "class_counts = [class_counts[class_index] for class_index in range(num_classes)]\n",
        "plt.figure(figsize=(10, 5))\n",
        "sns.barplot(x=np.arange(num_classes), y=class_counts)\n",
        "plt.xlabel(\"Classes\", fontsize=16)\n",
        "plt.ylabel(\"Frequency\", fontsize=16)"
      ]
    },
    {
      "cell_type": "markdown",
      "metadata": {
        "id": "Ad8QMI3-v9zy"
      },
      "source": [
        "## Define the embedding and positional encoding layers"
      ]
    },
    {
      "cell_type": "code",
      "execution_count": null,
      "metadata": {
        "id": "bGZ6-JlOt_dN"
      },
      "outputs": [],
      "source": [
        "class EmbeddingLayer(torch.nn.Module):\n",
        "    def __init__(self, d_model, vocab_size):\n",
        "        super(EmbeddingLayer, self).__init__()\n",
        "        self.embedding = torch.nn.Embedding(vocab_size, d_model)\n",
        "        self.d_model = d_model\n",
        "\n",
        "    def forward(self, x):\n",
        "        return self.embedding(x) * np.sqrt(self.d_model)\n",
        "\n",
        "\n",
        "class PositionalEncodingLayer(torch.nn.Module):\n",
        "    def __init__(self, d_model, seq_len, dropout):\n",
        "        super(PositionalEncodingLayer, self).__init__()\n",
        "        # Add dropout if required\n",
        "        self.dropout = torch.nn.Dropout(p=dropout)\n",
        "        # Create an embedding of seq_len x d_model.\n",
        "        # This will be applied across batches\n",
        "        pe = torch.zeros(seq_len, d_model)\n",
        "        # Define the numerator\n",
        "        position = torch.arange(0, seq_len).unsqueeze(1)\n",
        "        # Define the denominator\n",
        "        div_term = torch.exp(torch.arange(0, d_model, 2) * -(torch.math.log(10000.0) / d_model))\n",
        "        # start_pos:en_pos:skip = 0::2\n",
        "        pe[:, 0::2] = torch.sin(position * div_term)\n",
        "        pe[:, 1::2] = torch.cos(position * div_term)\n",
        "        pe = pe.unsqueeze(0)\n",
        "        # Do not register pe as a parameter hence no grad calculations\n",
        "        self.register_buffer(\"pe\", pe)\n",
        "\n",
        "    def forward(self, x):\n",
        "        x = x + self.pe[:, : x.size(1)]\n",
        "        return self.dropout(x)"
      ]
    },
    {
      "cell_type": "markdown",
      "metadata": {
        "id": "H_hW83ODwFOd"
      },
      "source": [
        "## Define the multi-head attention layer"
      ]
    },
    {
      "cell_type": "code",
      "execution_count": null,
      "metadata": {
        "id": "_xCctjm6v_fq"
      },
      "outputs": [],
      "source": [
        "class MultiHeadAttention(torch.nn.Module):\n",
        "    def __init__(self, d_model, num_heads, dropout):\n",
        "        super(MultiHeadAttention, self).__init__()\n",
        "        # Make sure that the embedding dimension is divisible by the number of heads\n",
        "        assert d_model % num_heads == 0, \"d_model must be divisible by num_heads\"\n",
        "        self.dropout = dropout\n",
        "        self.d_model = d_model\n",
        "        self.num_heads = num_heads\n",
        "        self.d_k = d_model // num_heads\n",
        "        # Define the attention projection layers\n",
        "        self.W_q = torch.nn.Linear(d_model, d_model)\n",
        "        self.W_k = torch.nn.Linear(d_model, d_model)\n",
        "        self.W_v = torch.nn.Linear(d_model, d_model)\n",
        "        self.W_o = torch.nn.Linear(d_model, d_model)\n",
        "\n",
        "    def scaled_dot_product_attention(self, Q, K, V, mask=None):\n",
        "        # Perform scaled attention\n",
        "        attn_scores = torch.matmul(Q, K.transpose(-2, -1)) / np.sqrt(self.d_k)\n",
        "        if mask is not None:\n",
        "            # Wherever the mask is 0, replace the values with -1e9\n",
        "            # This ensures that e^(-1e9)=0 when computing softmax\n",
        "            mask = mask.squeeze()\n",
        "            mask = mask.view(mask.shape[0], 1, 1, mask.shape[1])\n",
        "            attn_scores = attn_scores.masked_fill(mask != 0, -1e9)\n",
        "        # Compute softmax to generate the attention scores\n",
        "        attn_probs = torch.softmax(attn_scores, dim=-1)\n",
        "        # Multiply the attention scores back Value\n",
        "        output = torch.matmul(attn_probs, V)\n",
        "        return output, attn_probs\n",
        "\n",
        "    # This function splits the output into different heads\n",
        "    def split_heads(self, x):\n",
        "        batch_size, seq_length, d_model = x.size()\n",
        "        # The view function performs efficient reshaping without making a copy\n",
        "        return x.view(batch_size, seq_length, self.num_heads, self.d_k).transpose(1, 2)\n",
        "\n",
        "    # This function combines the output from each attention head\n",
        "    def combine_heads(self, x):\n",
        "        batch_size, _, seq_length, d_k = x.size()\n",
        "        # performing transpose leads to different slices of the same tensor\n",
        "        # to be in different memory locations. For efficient reshapeing with view,\n",
        "        # the tensor must exist in the same memory location.\n",
        "        return x.transpose(1, 2).contiguous().view(batch_size, seq_length, self.d_model)\n",
        "\n",
        "    def forward(self, Q, K, V, mask=None):\n",
        "        # Perform a forward pass through the linear layer\n",
        "        # Then split into heads to compute attention scores separately\n",
        "        Q = self.split_heads(self.W_q(Q))\n",
        "        K = self.split_heads(self.W_k(K))\n",
        "        V = self.split_heads(self.W_v(V))\n",
        "        # Apply self-attention\n",
        "        attn_output, attn_wts = self.scaled_dot_product_attention(Q, K, V, mask)\n",
        "        # Final projection\n",
        "        output = self.W_o(self.combine_heads(attn_output))\n",
        "        return output, attn_wts"
      ]
    },
    {
      "cell_type": "markdown",
      "metadata": {
        "id": "ky0GBD1FwI4R"
      },
      "source": [
        "## Define the Positionwise feed-forward Networks"
      ]
    },
    {
      "cell_type": "code",
      "execution_count": null,
      "metadata": {
        "id": "vjcZhsYdwG9w"
      },
      "outputs": [],
      "source": [
        "class PositionWiseFeedForward(torch.nn.Module):\n",
        "    def __init__(self, d_model, d_ff, dropout):\n",
        "        super(PositionWiseFeedForward, self).__init__()\n",
        "        self.fc1 = torch.nn.Linear(d_model, d_ff)\n",
        "        self.fc2 = torch.nn.Linear(d_ff, d_model)\n",
        "        self.dropout = torch.nn.Dropout(dropout)\n",
        "\n",
        "    def forward(self, x):\n",
        "        return self.fc2(self.dropout(torch.nn.ReLU()((self.fc1(x)))))"
      ]
    },
    {
      "cell_type": "markdown",
      "metadata": {
        "id": "gUAXlalTwM6I"
      },
      "source": [
        "## Define the Encoder block"
      ]
    },
    {
      "cell_type": "code",
      "execution_count": null,
      "metadata": {
        "id": "v50JY_MkwKlr"
      },
      "outputs": [],
      "source": [
        "class EncoderLayer(torch.nn.Module):\n",
        "    def __init__(self, d_model, num_heads, d_ff, dropout):\n",
        "        super(EncoderLayer, self).__init__()\n",
        "        self.self_attn = MultiHeadAttention(d_model, num_heads, dropout)\n",
        "        self.feed_forward = PositionWiseFeedForward(d_model, d_ff, dropout)\n",
        "        self.norm1 = torch.nn.LayerNorm(d_model)\n",
        "        self.norm2 = torch.nn.LayerNorm(d_model)\n",
        "        self.dropout = torch.nn.Dropout(dropout)\n",
        "\n",
        "    def forward(self, x, mask):\n",
        "        # Get output from multi-head attention layer\n",
        "        attn_output, _ = self.self_attn(x, x, x, mask)\n",
        "        # Add skip connection and then normalize\n",
        "        x = self.norm1(x + self.dropout(attn_output))\n",
        "        # Get output from projection layers\n",
        "        ff_output = self.feed_forward(x)\n",
        "        # Add skip connection and then normalize\n",
        "        x = self.norm2(x + self.dropout(ff_output))\n",
        "        return x"
      ]
    },
    {
      "cell_type": "markdown",
      "metadata": {
        "id": "UEjTHxgUwUDW"
      },
      "source": [
        "## Finally, define the transformer model"
      ]
    },
    {
      "cell_type": "code",
      "execution_count": null,
      "metadata": {
        "id": "N46PVm_hwSVS"
      },
      "outputs": [],
      "source": [
        "class Transformer(torch.nn.Module):\n",
        "    def __init__(self, vocab_size, d_model, num_heads, num_enc_layers, d_ff, seq_len, dropout, num_classes):\n",
        "        super(Transformer, self).__init__()\n",
        "        # The encoder and decoder embeddings are going to be shared since this is not a translation task\n",
        "        self.encoder_embedding = self.decoder_embedding = EmbeddingLayer(d_model, vocab_size)\n",
        "        self.positional_encoding = PositionalEncodingLayer(d_model, seq_len, dropout)\n",
        "        # Stack encoder and decoder blocks\n",
        "        self.encoder_layers = torch.nn.ModuleList([EncoderLayer(d_model, num_heads, d_ff, dropout) for _ in range(num_enc_layers)])\n",
        "        # Final classification layer\n",
        "        self.fc = torch.nn.Linear(d_model, num_classes)\n",
        "        self.dropout = torch.nn.Dropout(dropout)\n",
        "        # Define the optimizer\n",
        "        self.optimizer = torch.optim.AdamW(self.parameters(), lr=0.0003)\n",
        "        # Define the objective function\n",
        "        self.criterion = torch.nn.CrossEntropyLoss()\n",
        "\n",
        "    # Generate masks to make sure that our model does not attend to <pad> tokens\n",
        "    def generate_mask(self, src):\n",
        "        src_mask = (src == 0)\n",
        "        return src_mask\n",
        "\n",
        "    def forward(self, src):\n",
        "        # Generate masks for the given sequence\n",
        "        src_mask = self.generate_mask(src)\n",
        "        # Get the embeddings\n",
        "        src_embedded = self.positional_encoding(self.encoder_embedding(src))\n",
        "        # Get output from the final encoder block\n",
        "        enc_output = src_embedded\n",
        "        for enc_layer in self.encoder_layers:\n",
        "            enc_output = enc_layer(enc_output, src_mask)\n",
        "        # Aggregate the final decoder layer output\n",
        "        output = torch.max(enc_output, dim=1).values\n",
        "        # Perform classification\n",
        "        output = self.fc(output)\n",
        "        return output\n",
        "\n",
        "    def training_step(self, batch, batch_idx):\n",
        "        x, y = batch\n",
        "        self.optimizer.zero_grad()\n",
        "        preds = self.forward(x)\n",
        "        loss = self.criterion(preds, y)\n",
        "        loss.backward()\n",
        "        self.optimizer.step()\n",
        "        return loss.item(), preds.numpy(force=True)\n",
        "\n",
        "    def validation_step(self, batch, batch_idx):\n",
        "        x, y = batch\n",
        "        preds = self.forward(x)\n",
        "        loss = self.criterion(preds, y)\n",
        "        return loss.item(), preds.numpy(force=True)"
      ]
    },
    {
      "cell_type": "markdown",
      "metadata": {
        "id": "cQc53Mi-wXEo"
      },
      "source": [
        "## Create the data loaders"
      ]
    },
    {
      "cell_type": "code",
      "execution_count": null,
      "metadata": {
        "id": "bp90ZgucwVkX"
      },
      "outputs": [],
      "source": [
        "batch_size = 256\n",
        "num_workers = 2\n",
        "\n",
        "train_data_loader = DataLoader(TensorDataset(torch.tensor(X_train), torch.tensor(Y_train)), batch_size=batch_size, num_workers=num_workers, shuffle=True)\n",
        "val_data_loader = DataLoader(TensorDataset(torch.tensor(X_val), torch.tensor(Y_val)), batch_size=batch_size, num_workers=num_workers, shuffle=False)\n",
        "test_data_loader = DataLoader(TensorDataset(torch.tensor(X_test), torch.tensor(Y_test)), batch_size=batch_size, num_workers=num_workers, shuffle=False)"
      ]
    },
    {
      "cell_type": "markdown",
      "metadata": {
        "id": "3zXw0O2b37h6"
      },
      "source": [
        "## Some hyper-parameters"
      ]
    },
    {
      "cell_type": "code",
      "execution_count": null,
      "metadata": {
        "id": "_oDI8wO537h6"
      },
      "outputs": [],
      "source": [
        "device = torch.device(\"cuda\" if torch.cuda.is_available() else \"cpu\")\n",
        "num_epochs = 100\n",
        "vocab_size = len(token_to_idx)\n",
        "d_model = 32\n",
        "num_heads = 4\n",
        "num_enc_layers = 4\n",
        "d_ff = 128\n",
        "dropout = 0.1"
      ]
    },
    {
      "cell_type": "markdown",
      "metadata": {
        "id": "5ODBLYmpwatK"
      },
      "source": [
        "## Perform training and validation using our custom transformer implementation"
      ]
    },
    {
      "cell_type": "code",
      "execution_count": null,
      "metadata": {
        "id": "6Rz9zvPIwY5e",
        "outputId": "f4306f08-b1a1-4576-b066-78603abaf8e6",
        "colab": {
          "base_uri": "https://localhost:8080/"
        }
      },
      "outputs": [
        {
          "output_type": "stream",
          "name": "stderr",
          "text": [
            "train_loss: 0.3126959088775847\tval_loss:0.953683873017629: 100%|██████████| 100/100 [05:22<00:00,  3.22s/it]\n"
          ]
        }
      ],
      "source": [
        "model = Transformer(vocab_size, d_model, num_heads, num_enc_layers, d_ff, seq_len, dropout, num_classes)\n",
        "model.to(device)\n",
        "\n",
        "train_epoch_loss = list()\n",
        "val_epoch_loss = list()\n",
        "min_val_loss = np.inf\n",
        "pbar = tqdm(range(num_epochs))\n",
        "for epoch in pbar:\n",
        "    # Training loop\n",
        "    train_iter_loss = list()\n",
        "    model.train()\n",
        "    for batch_idx, batch in enumerate(train_data_loader):\n",
        "        batch = (batch[0].to(device), batch[1].to(device))\n",
        "        loss, _ = model.training_step(batch, batch_idx)\n",
        "        train_iter_loss.append(loss)\n",
        "    train_epoch_loss.append(sum(train_iter_loss)/len(train_iter_loss))\n",
        "\n",
        "    # Validation loop\n",
        "    val_iter_loss = list()\n",
        "    model.eval()\n",
        "    for batch_idx, batch in enumerate(val_data_loader):\n",
        "        batch = (batch[0].to(device), batch[1].to(device))\n",
        "        loss, _ = model.validation_step(batch, batch_idx)\n",
        "        val_iter_loss.append(loss)\n",
        "    val_epoch_loss.append(sum(val_iter_loss)/len(val_iter_loss))\n",
        "    if val_epoch_loss[-1] < min_val_loss:\n",
        "        min_val_loss = val_epoch_loss[-1]\n",
        "        best_model = deepcopy(model)\n",
        "    pbar.set_description(\"train_loss: \"+str(train_epoch_loss[-1])+\"\\tval_loss:\"+str(val_epoch_loss[-1]))"
      ]
    },
    {
      "cell_type": "markdown",
      "metadata": {
        "id": "D-850sMQ37h7"
      },
      "source": [
        "## Plot the training and validation losses"
      ]
    },
    {
      "cell_type": "code",
      "execution_count": null,
      "metadata": {
        "id": "UtQV-SBU37h7",
        "outputId": "7cd3aaa4-158b-43fb-b455-6270c0a44a36",
        "colab": {
          "base_uri": "https://localhost:8080/",
          "height": 476
        }
      },
      "outputs": [
        {
          "output_type": "execute_result",
          "data": {
            "text/plain": [
              "<matplotlib.legend.Legend at 0x7e6f90dd4b90>"
            ]
          },
          "metadata": {},
          "execution_count": 50
        },
        {
          "output_type": "display_data",
          "data": {
            "text/plain": [
              "<Figure size 640x480 with 1 Axes>"
            ],
            "image/png": "[encoded data removed]"
          },
          "metadata": {}
        }
      ],
      "source": [
        "sns.lineplot(x=np.arange(num_epochs), y=train_epoch_loss, label=\"Train loss\")\n",
        "sns.lineplot(x=np.arange(num_epochs), y=val_epoch_loss, label=\"Val loss\")\n",
        "plt.xlabel(\"Epochs\")\n",
        "plt.ylabel(\"Loss\")\n",
        "plt.legend()"
      ]
    },
    {
      "cell_type": "markdown",
      "metadata": {
        "id": "9jHl1nDD37h7"
      },
      "source": [
        "## Get all the predictions on the train and validation set"
      ]
    },
    {
      "cell_type": "code",
      "execution_count": null,
      "metadata": {
        "id": "CqRMETIn37h-",
        "outputId": "d476f7a1-66ba-4654-f5de-e348b1c1d259",
        "colab": {
          "base_uri": "https://localhost:8080/"
        }
      },
      "outputs": [
        {
          "output_type": "stream",
          "name": "stderr",
          "text": [
            "Predicting on Train set: 100%|██████████| 36/36 [00:01<00:00, 30.18it/s]"
          ]
        },
        {
          "output_type": "stream",
          "name": "stdout",
          "text": [
            "\n",
            "Train Accuracy: 0.9698375870069605\n",
            "Train Precision: 0.9698375870069605\n",
            "Train Confusion Matrix:\n",
            " [[374   0   0   0   0   0   0   0   0   0   0   0   0   0   0   1   0   1\n",
            "    0  24]\n",
            " [  0 453   3   2   2   0   0   0   0   0   0   0  12   1   0   0   0   0\n",
            "    0   0]\n",
            " [  0   5 456  11   1   1   0   3   0   0   0   0   8   0   0   0   0   0\n",
            "    0   0]\n",
            " [  0   3   6 438   4   1  16   0   0   0   0   2  13   0   0   0   0   0\n",
            "    0   0]\n",
            " [  0   2   1   8 450   0   1   0   0   0   0   1  12   0   0   0   0   0\n",
            "    0   0]\n",
            " [  0   4   7   2   3 472   0   0   1   0   0   1   2   0   0   0   0   0\n",
            "    0   0]\n",
            " [  0   0   0   9   3   0 444   4   1   0   0   1   3   0   0   0   0   0\n",
            "    0   0]\n",
            " [  0   0   0   0   0   0   3 455   0   0   0   0   2   0   0   0   0   0\n",
            "    0   0]\n",
            " [  0   0   0   0   0   0   0   2 469   0   0   0   0   0   0   0   0   0\n",
            "    0   0]\n",
            " [  0   0   0   0   0   0   0   0   0 478   0   0   0   0   4   0   0   0\n",
            "    2   1]\n",
            " [  0   0   0   0   0   0   1   0   3   0 480   0   0   0   0   0   0   0\n",
            "    0   0]\n",
            " [  0   0   0   1   0   0   0   0   0   0   0 471   0   0   0   0   3   0\n",
            "    1   0]\n",
            " [  0   0   0   1   0   0   2   2   0   0   0   0 419   0   0   0   0   0\n",
            "    1   0]\n",
            " [  0   0   0   0   0   0   0   0   1   0   0   0   1 474   0   0   0   0\n",
            "    1   0]\n",
            " [  0   0   0   0   0   0   0   7   1   0   0   0   0   0 470   0   0   0\n",
            "    1   0]\n",
            " [  1   0   0   0   0   0   1   0   0   0   0   0   0   0   0 478   1   0\n",
            "    0  10]\n",
            " [  0   0   0   0   0   0   0   2   1   0   0   0   1   0   0   0 429   0\n",
            "    6   1]\n",
            " [  1   0   0   0   0   0   0   0   1   0   0   0   0   0   0   0   0 450\n",
            "    2   2]\n",
            " [  0   0   0   0   0   0   0   0   0   0   0   0   0   0   0   0   4   0\n",
            "  355   1]\n",
            " [  8   0   0   0   0   0   0   0   0   0   0   0   0   0   0   0   0   0\n",
            "    3 263]] \n",
            "\n",
            "\n"
          ]
        },
        {
          "output_type": "stream",
          "name": "stderr",
          "text": [
            "\n",
            "Predicting on Val set: 100%|██████████| 9/9 [00:00<00:00, 26.96it/s]"
          ]
        },
        {
          "output_type": "stream",
          "name": "stdout",
          "text": [
            "\n",
            "Validation Accuracy: 0.755634114007954\n",
            "Validation Precision: 0.755634114007954\n",
            "Validation Confusion Matrix:\n",
            " [[ 76   0   0   0   0   0   0   3   0   0   0   0   0   1   2  10   4   6\n",
            "    0  10]\n",
            " [  0  81  12  11   9   5   6   5   2   0   0   1  12  10   4   4   0   0\n",
            "    0   1]\n",
            " [  0   5  92   6   1   6   1   2   0   0   0   0   2   0   2   0   0   0\n",
            "    0   0]\n",
            " [  0   8   4  84  12   1   4   2   0   0   0   3   8   0   0   0   0   0\n",
            "    0   1]\n",
            " [  0   5   4   8  75   3   6   2   0   0   0   2   9   3   0   2   0   0\n",
            "    0   0]\n",
            " [  0   7   2   2   3  98   0   1   4   2   0   1   2   1   1   1   0   0\n",
            "    0   0]\n",
            " [  0   4   1   3   3   0  82   3   2   0   0   0   1   0   0   2   2   0\n",
            "    1   1]\n",
            " [  1   0   0   1   0   0   1  86   5   1   0   0   3   1   1   0   1   0\n",
            "    2   2]\n",
            " [  0   1   0   0   0   0   2   2  97   2   0   1   4   0   1   0   1   0\n",
            "    3   2]\n",
            " [  0   0   0   0   1   1   0   1   1 107   2   1   4   0   1   0   0   0\n",
            "    0   0]\n",
            " [  0   1   1   0   2   2   6   0   1   3 117   0   1   0   2   2   0   1\n",
            "    3   3]\n",
            " [  0   1   1   0   0   0   0   1   0   1   0  98   0   1   0   0   2   1\n",
            "    1   1]\n",
            " [  0   1   1   1   4   0   6   4   0   1   0   2  63   1   7   0   2   0\n",
            "    2   0]\n",
            " [  2   1   0   0   2   1   1   0   2   0   0   3   4  94   3   0   1   5\n",
            "    5   1]\n",
            " [  0   2   0   0   0   1   0   3   2   0   0   0   0   2  91   0   2   0\n",
            "    1   0]\n",
            " [  6   0   0   1   0   1   1   0   1   1   0   1   2   1   0  89   3   0\n",
            "    3  10]\n",
            " [  1   0   0   1   2   0   0   0   1   0   1   3   2   2   2   2  88   2\n",
            "    5   2]\n",
            " [  1   0   0   0   0   0   0   1   1   0   0   0   0   1   1   1   0  96\n",
            "    2   1]\n",
            " [  4   0   0   0   1   0   1   3   1   0   0   3   1   1   1   1   2   2\n",
            "   60   4]\n",
            " [  5   0   0   0   0   0   0   0   0   1   0   0   0   0   0   6   1   0\n",
            "    5  36]] \n",
            "\n",
            "\n"
          ]
        },
        {
          "output_type": "stream",
          "name": "stderr",
          "text": [
            "\n",
            "Predicting on Test set: 100%|██████████| 30/30 [00:00<00:00, 31.34it/s]"
          ]
        },
        {
          "output_type": "stream",
          "name": "stdout",
          "text": [
            "\n",
            "Test Accuracy: 0.6267923526287839\n",
            "Test Precision: 0.6267923526287839\n",
            "Test Confusion Matrix:\n",
            " [[155   0   0   0   0   0   0   3   2   4   1   2   0   6   4  28  10  44\n",
            "   10  37]\n",
            " [  6 258  49  55  16  71  16  21   5   7  10   8  61  66  17   8   6   5\n",
            "    5   5]\n",
            " [  0  16 233  27  12  59   2   5   3   2   2   1  18   1   6   1   0   0\n",
            "    0   0]\n",
            " [  1  16  29 231  20  11  24   5   0   1   1  11  27   1   2   0   0   0\n",
            "    1   0]\n",
            " [  0  18  27  20 268   9  11   0   1   0   0  12  33   6   2   1   2   2\n",
            "    1   1]\n",
            " [  1  21  21  14  15 207   2   1  11  16   2   3  18   4  11   2   0   0\n",
            "    1   0]\n",
            " [  1   6   1  16  12   6 298  17   8   4   6   9  12   1   3   8   4   0\n",
            "    2   2]\n",
            " [  0   1   1   1   0   1   5 260  16   1   0   2  14   3   3   3   6   0\n",
            "    4   3]\n",
            " [  3   2   4   0   2   3   1  14 303   8   5   1   4   9   5   4   3   1\n",
            "    6   9]\n",
            " [  1   1   1   1   1   3   2   3   4 251  10   6   7   6   9   0   2   5\n",
            "    7   2]\n",
            " [  2   4   1   5   3   1   9   2   4  69 339   3   7  12  16   5   3   3\n",
            "    3   9]\n",
            " [  4   2   3   4   5   0   1   3   2   3   0 288   7   1   3   0  11   1\n",
            "    3   0]\n",
            " [  1  14  14  17  24   8   6  23  10   8   1   4 145  16  13   1   2   0\n",
            "    3   4]\n",
            " [ 12   7   6   0   2   5   2  13  17   1   3   5  22 210  20  15   7  11\n",
            "   17   3]\n",
            " [  1   7   2   0   0   6   3   9   2  10   3   2   5   6 262   0   2   6\n",
            "    2   3]\n",
            " [ 76   8   1   0   1   2   5   2   1   1   7   3   4  28   2 295  11  10\n",
            "    8  54]\n",
            " [  8   3   1   1   0   1   2   7   6   4   5  19   7   9   5   0 265   7\n",
            "  109  21]\n",
            " [  2   0   0   0   0   0   0   1   1   0   0   0   0   4   2   2   3 261\n",
            "    3   2]\n",
            " [  3   3   0   0   4   1   0   5   1   4   1  12   2   5   9   3  20   8\n",
            "  108  12]\n",
            " [ 42   2   0   0   0   1   1   2   1   3   3   5   0   2   0  22   7  12\n",
            "   17  84]] \n",
            "\n",
            "\n"
          ]
        },
        {
          "output_type": "stream",
          "name": "stderr",
          "text": [
            "\n"
          ]
        }
      ],
      "source": [
        "train_data_loader_copy = DataLoader(TensorDataset(torch.tensor(X_train), torch.tensor(Y_train)), batch_size=batch_size, num_workers=num_workers, shuffle=False)\n",
        "train_total_predictions = list()\n",
        "for batch_idx, batch in tqdm(enumerate(train_data_loader_copy), total=len(train_data_loader_copy), desc=\"Predicting on Train set\"):\n",
        "    batch = (batch[0].to(device), batch[1].to(device))\n",
        "    _, preds = best_model.validation_step(batch, batch_idx)\n",
        "    train_total_predictions.extend(preds)\n",
        "train_total_predictions = np.argmax(np.asarray(train_total_predictions), axis=1)\n",
        "ground_truth = Y_train\n",
        "print(\"\\nTrain Accuracy:\", accuracy_score(train_total_predictions, Y_train))\n",
        "print(\"Train Precision:\", precision_score(train_total_predictions, ground_truth, average=\"micro\"))\n",
        "print(\"Train Confusion Matrix:\\n\", confusion_matrix(train_total_predictions, ground_truth), \"\\n\\n\")\n",
        "\n",
        "val_total_predictions = list()\n",
        "for batch_idx, batch in tqdm(enumerate(val_data_loader), total=len(val_data_loader), desc=\"Predicting on Val set\"):\n",
        "    batch = (batch[0].to(device), batch[1].to(device))\n",
        "    _, preds = best_model.validation_step(batch, batch_idx)\n",
        "    val_total_predictions.extend(preds)\n",
        "val_total_predictions = np.argmax(np.asarray(val_total_predictions), axis=1)\n",
        "ground_truth = Y_val\n",
        "print(\"\\nValidation Accuracy:\", accuracy_score(val_total_predictions, ground_truth))\n",
        "print(\"Validation Precision:\", precision_score(val_total_predictions, ground_truth, average=\"micro\"))\n",
        "print(\"Validation Confusion Matrix:\\n\", confusion_matrix(val_total_predictions, ground_truth), \"\\n\\n\")\n",
        "\n",
        "test_total_predictions = list()\n",
        "for batch_idx, batch in tqdm(enumerate(test_data_loader), total=len(test_data_loader), desc=\"Predicting on Test set\"):\n",
        "    batch = (batch[0].to(device), batch[1].to(device))\n",
        "    _, preds = best_model.validation_step(batch, batch_idx)\n",
        "    test_total_predictions.extend(preds)\n",
        "test_total_predictions = np.argmax(np.asarray(test_total_predictions), axis=1)\n",
        "ground_truth = Y_test\n",
        "print(\"\\nTest Accuracy:\", accuracy_score(test_total_predictions, ground_truth))\n",
        "print(\"Test Precision:\", precision_score(test_total_predictions, ground_truth, average=\"micro\"))\n",
        "print(\"Test Confusion Matrix:\\n\", confusion_matrix(test_total_predictions, ground_truth), \"\\n\\n\")\n"
      ]
    },
    {
      "cell_type": "markdown",
      "metadata": {
        "id": "HQRyVRsw37h_"
      },
      "source": [
        "## Replace custom Multi Head Attention Layer with PyTorch Multi Head Attention and perform training and validation"
      ]
    },
    {
      "cell_type": "code",
      "execution_count": null,
      "metadata": {
        "id": "FwqnRbZ937h_",
        "outputId": "d0a80d73-6bff-45f3-82b1-6578e05bc53a",
        "colab": {
          "base_uri": "https://localhost:8080/"
        }
      },
      "outputs": [
        {
          "output_type": "stream",
          "name": "stderr",
          "text": [
            "train_loss: 1.2510677774747212\tval_loss:1.4450509680642023: 100%|██████████| 100/100 [05:11<00:00,  3.12s/it]\n"
          ]
        }
      ],
      "source": [
        "model = Transformer(vocab_size, d_model, num_heads, num_enc_layers, d_ff, seq_len, dropout, num_classes)\n",
        "# Replace the multi-head attention layers with Pytorch version\n",
        "for i in range(num_enc_layers):\n",
        "    model.encoder_layers[i].self_attn = torch.nn.MultiheadAttention(d_model, num_heads, dropout, batch_first=True)\n",
        "model.to(device)\n",
        "\n",
        "train_epoch_loss = list()\n",
        "val_epoch_loss = list()\n",
        "min_val_loss = np.inf\n",
        "pbar = tqdm(range(num_epochs))\n",
        "for epoch in pbar:\n",
        "    # Training loop\n",
        "    train_iter_loss = list()\n",
        "    model.train()\n",
        "    for batch_idx, batch in enumerate(train_data_loader):\n",
        "        batch = (batch[0].to(device), batch[1].to(device))\n",
        "        loss, _ = model.training_step(batch, batch_idx)\n",
        "        train_iter_loss.append(loss)\n",
        "    train_epoch_loss.append(sum(train_iter_loss)/len(train_iter_loss))\n",
        "\n",
        "    # Validation loop\n",
        "    val_iter_loss = list()\n",
        "    model.eval()\n",
        "    for batch_idx, batch in enumerate(val_data_loader):\n",
        "        batch = (batch[0].to(device), batch[1].to(device))\n",
        "        loss, _ = model.validation_step(batch, batch_idx)\n",
        "        val_iter_loss.append(loss)\n",
        "    val_epoch_loss.append(sum(val_iter_loss)/len(val_iter_loss))\n",
        "    if val_epoch_loss[-1] < min_val_loss:\n",
        "        min_val_loss = val_epoch_loss[-1]\n",
        "        best_model = deepcopy(model)\n",
        "    pbar.set_description(\"train_loss: \"+str(train_epoch_loss[-1])+\"\\tval_loss:\"+str(val_epoch_loss[-1]))"
      ]
    },
    {
      "cell_type": "markdown",
      "metadata": {
        "id": "gDBInk8P37h_"
      },
      "source": [
        "## Plot the training and validation losses"
      ]
    },
    {
      "cell_type": "code",
      "execution_count": null,
      "metadata": {
        "id": "Yhu3A6na37h_",
        "outputId": "47c6b403-8d58-4bc6-ea8b-d9c1e49cede6",
        "colab": {
          "base_uri": "https://localhost:8080/",
          "height": 476
        }
      },
      "outputs": [
        {
          "output_type": "execute_result",
          "data": {
            "text/plain": [
              "<matplotlib.legend.Legend at 0x7e6f8cef9010>"
            ]
          },
          "metadata": {},
          "execution_count": 53
        },
        {
          "output_type": "display_data",
          "data": {
            "text/plain": [
              "<Figure size 640x480 with 1 Axes>"
            ],
            "image/png": "[encoded data removed]"
          },
          "metadata": {}
        }
      ],
      "source": [
        "sns.lineplot(x=np.arange(num_epochs), y=train_epoch_loss, label=\"Train loss\")\n",
        "sns.lineplot(x=np.arange(num_epochs), y=val_epoch_loss, label=\"Val loss\")\n",
        "plt.xlabel(\"Epochs\")\n",
        "plt.ylabel(\"Loss\")\n",
        "plt.legend()"
      ]
    },
    {
      "cell_type": "markdown",
      "metadata": {
        "id": "BX9ZUFaQ37h_"
      },
      "source": [
        "## Get all the predictions on the train and validation set"
      ]
    },
    {
      "cell_type": "code",
      "execution_count": null,
      "metadata": {
        "id": "rBXnMPzI37iA",
        "outputId": "7e6b5d56-21cd-471f-b9ce-12c87696cad1",
        "colab": {
          "base_uri": "https://localhost:8080/"
        }
      },
      "outputs": [
        {
          "output_type": "stream",
          "name": "stderr",
          "text": [
            "Predicting on Train set: 100%|██████████| 36/36 [00:01<00:00, 30.83it/s]"
          ]
        },
        {
          "output_type": "stream",
          "name": "stdout",
          "text": [
            "\n",
            "Train Accuracy: 0.7005855706551762\n",
            "Train Precision: 0.7005855706551762\n",
            "Train Confusion Matrix:\n",
            " [[280   1   0   2   0   0   0   7   9   0   3   4   2   1   4  42   6  13\n",
            "   28  62]\n",
            " [  0 217  23  40  31  16  11   5   8   5   2   3  38  12   9   1   1   1\n",
            "    1   1]\n",
            " [  0  40 333  47   5  49  11   6   0   0   0   5   6   1   2   0   1   0\n",
            "    0   1]\n",
            " [  0  67  46 267  43  19  32   7   5   3   1   1  46   7   3   1   0   0\n",
            "    2   2]\n",
            " [  0  16   2  18 309   3  12   0   6   1   1   3  35   2   1   0   0   0\n",
            "    0   0]\n",
            " [  0  93  44  52  22 374  22   4   6   6   2   6  40   2   3   1   0   0\n",
            "    1   0]\n",
            " [  0   1   2  12  11   1 317   6  11   5   0   0  12   6   1   0   4   1\n",
            "    0   0]\n",
            " [  5   1   1   3   2   1  14 340  16   4   1   2  21   8   2   3   4   2\n",
            "    2   5]\n",
            " [  4   0   4   3  12   3   2  21 357   1   4   2   6  21   4   9   5   0\n",
            "    4   1]\n",
            " [  1   5   4   9   6   3   5  22   9 405  17   1  20  13  17   6   5   0\n",
            "   13   2]\n",
            " [  2   0   0   0   1   0   2   3   3  10 422   2   1   2  10   3   2   9\n",
            "    9   1]\n",
            " [  0   0   5   3   0   2   3   3   3   5   1 402   8   1   8   3   8   3\n",
            "   11   4]\n",
            " [  1  10   6  12  17   2  23  14  10  11   1   2 206  10  10   3   3   1\n",
            "    5   0]\n",
            " [  4   6   0   0   0   0   5   5   5   4   0   2   5 340   8   9   9   5\n",
            "   12  13]\n",
            " [  7   7   2   1   1   0   6   7  16   8  15  15  15  10 375   3   6   7\n",
            "   11   5]\n",
            " [ 45   3   0   2   1   0   1   3   3   2   1   2   2   3   0 361   4   6\n",
            "    7  80]\n",
            " [  2   0   1   0   1   0   1  11   3   0   1   1   8  11   6   5 335   4\n",
            "   27  14]\n",
            " [  2   0   0   0   0   0   0   0   1   0   2   1   0   2   0   4   6 382\n",
            "   11   5]\n",
            " [ 23   0   0   1   1   1   1   9   7   8   6  22   1  21  11   6  37  17\n",
            "  224  11]\n",
            " [  8   0   0   0   0   0   0   2   0   0   0   0   1   2   0  19   1   0\n",
            "    4  95]] \n",
            "\n",
            "\n"
          ]
        },
        {
          "output_type": "stream",
          "name": "stderr",
          "text": [
            "\n",
            "Predicting on Val set: 100%|██████████| 9/9 [00:00<00:00, 31.43it/s]"
          ]
        },
        {
          "output_type": "stream",
          "name": "stdout",
          "text": [
            "\n",
            "Validation Accuracy: 0.5695978789217853\n",
            "Validation Precision: 0.5695978789217853\n",
            "Validation Confusion Matrix:\n",
            " [[65  0  0  0  0  0  0  1  3  2  0  1  1  3  2 12  0  6 11 12]\n",
            " [ 0 33  6  8  7  6  7  2  0  2  1  2  7  8  7  3  2  1  1  1]\n",
            " [ 0 10 77 11  0 13  1  0  0  0  0  3  1  1  0  0  1  0  0  0]\n",
            " [ 2 13 12 51 20  7 10  3  0  0  1  3 12  1  5  2  0  0  1  1]\n",
            " [ 0  4  2  9 52  0  3  0  1  1  2  0 11  3  0  1  0  1  0  1]\n",
            " [ 1 40 11 20 13 86 11  3  4  4  1  1 16  2  4  1  1  1  0  0]\n",
            " [ 0  3  1  2  2  0 68  3  3  0  1  0  2  2  0  0  1  1  1  0]\n",
            " [ 1  1  1  1  0  1  3 79 12  0  2  0  8  4  0  0  1  0  3  1]\n",
            " [ 2  2  2  1  5  1  0  9 67  3  0  1  3  6  4  2  5  0  0  1]\n",
            " [ 2  2  1  3  3  1  5  4  6 91 10  2  6  6  5  2  0  2  5  3]\n",
            " [ 0  0  0  0  1  1  1  0  0  5 94  0  1  2  5  1  1  2  4  0]\n",
            " [ 0  1  0  2  0  2  0  0  1  1  1 88  3  0  3  0  2  1  4  2]\n",
            " [ 0  4  3  3  6  0  4  4  5  1  0  0 36  1  5  4  2  0  1  0]\n",
            " [ 2  2  1  3  1  0  1  2  5  1  2  2  2 59  1  4  3  4  2  2]\n",
            " [ 1  0  1  1  2  0  0  5  3  3  4  5  5  3 64  0  5  4  2  2]\n",
            " [ 7  1  0  3  0  0  1  0  1  2  0  0  2  1  2 77  1  4  2 26]\n",
            " [ 1  0  0  0  1  0  1  2  2  0  0  1  0  3  4  3 69  1  7  2]\n",
            " [ 1  0  0  0  0  0  0  0  0  0  0  0  0  4  0  2  3 78  4  2]\n",
            " [ 6  1  0  0  2  1  1  1  7  2  1  9  2 10  8  1 12  7 43  7]\n",
            " [ 5  0  0  0  0  0  0  1  0  1  0  1  0  0  0  5  0  0  2 12]] \n",
            "\n",
            "\n"
          ]
        },
        {
          "output_type": "stream",
          "name": "stderr",
          "text": [
            "\n",
            "Predicting on Test set: 100%|██████████| 30/30 [00:00<00:00, 36.06it/s]"
          ]
        },
        {
          "output_type": "stream",
          "name": "stdout",
          "text": [
            "\n",
            "Test Accuracy: 0.5134094530005311\n",
            "Test Precision: 0.5134094530005311\n",
            "Test Confusion Matrix:\n",
            " [[141   1   2   0   0   0   1   2   8   5   4   2   2  14  16  46  12  57\n",
            "   16  45]\n",
            " [ 11 120  21  30  31  21  14  23  12   7   5  13  36  53  25   4   6   7\n",
            "    7   4]\n",
            " [  1  25 232  47   9  77  12   2   2   2   0   8  15   2   1   2   2   0\n",
            "    0   2]\n",
            " [  1  40  35 178  47  31  26   6   4   5   2   7  47  15  18   6   1   1\n",
            "    5   3]\n",
            " [  2  12  16  26 205   3  16   0   5   5   2   6  26  10   6   3   1   1\n",
            "    0   3]\n",
            " [  4 118  49  58  28 232  36  17   8  14   8  10  60  18   9   6   4   3\n",
            "    4   2]\n",
            " [  1   4   1   5   8   2 242  19  15   7   3   5  11  10   5   1   4   1\n",
            "    0   1]\n",
            " [  2   4   4   1   2   3   6 243  18   9   0   5  15   8   9   2   8   3\n",
            "    4   5]\n",
            " [  5   5   6   0  15   1   4  15 245   8   7   3   8  16   7   9  10  10\n",
            "    7   2]\n",
            " [  8   7   5   5   5   3  11  10  15 270  34  11  22  20   5  15   7   6\n",
            "   14   7]\n",
            " [  6   1   1   0   1   0   0   3   5  19 277   0   4   3   6   3   4   8\n",
            "    8   4]\n",
            " [  4   4   3   5   2   2   1   5   3   5   7 235  12   2   5   0  11   2\n",
            "    4   2]\n",
            " [  9  20   4  26  17   6  12  17   9   8   4  13  95  24  26   8   8   5\n",
            "    6   6]\n",
            " [ 11   6   3   0   2   4   1   2   6   6   5   9  10 140   6   6  12   8\n",
            "   15   7]\n",
            " [ 10  14   5   8   7   7   4   4  19  13  27  26  16  16 219  12  14  10\n",
            "   20   9]\n",
            " [ 59   1   2   1   1   2   1   1   7   3   3   2   3   6   2 229   5   4\n",
            "    8  71]\n",
            " [ 10   2   3   0   1   0   1  18   6   2   2   8   1   8   5   7 205   9\n",
            "   58  17]\n",
            " [  4   1   0   0   0   0   0   1   0   0   2   0   0   4   1   7   6 202\n",
            "    7   7]\n",
            " [ 16   4   2   2   4   1   2   8  10   8   6  33  10  26  23  17  37  32\n",
            "  124  21]\n",
            " [ 14   0   0   0   0   0   0   0   1   1   1   0   0   1   0  15   7   7\n",
            "    3  33]] \n",
            "\n",
            "\n"
          ]
        },
        {
          "output_type": "stream",
          "name": "stderr",
          "text": [
            "\n"
          ]
        }
      ],
      "source": [
        "train_data_loader_copy = DataLoader(TensorDataset(torch.tensor(X_train), torch.tensor(Y_train)), batch_size=batch_size, num_workers=num_workers, shuffle=False)\n",
        "train_total_predictions = list()\n",
        "for batch_idx, batch in tqdm(enumerate(train_data_loader_copy), total=len(train_data_loader_copy), desc=\"Predicting on Train set\"):\n",
        "    batch = (batch[0].to(device), batch[1].to(device))\n",
        "    _, preds = best_model.validation_step(batch, batch_idx)\n",
        "    train_total_predictions.extend(preds)\n",
        "train_total_predictions = np.argmax(np.asarray(train_total_predictions), axis=1)\n",
        "ground_truth = Y_train\n",
        "print(\"\\nTrain Accuracy:\", accuracy_score(train_total_predictions, ground_truth))\n",
        "print(\"Train Precision:\", precision_score(train_total_predictions, ground_truth, average=\"micro\"))\n",
        "print(\"Train Confusion Matrix:\\n\", confusion_matrix(train_total_predictions, ground_truth), \"\\n\\n\")\n",
        "\n",
        "val_total_predictions = list()\n",
        "for batch_idx, batch in tqdm(enumerate(val_data_loader), total=len(val_data_loader), desc=\"Predicting on Val set\"):\n",
        "    batch = (batch[0].to(device), batch[1].to(device))\n",
        "    _, preds = best_model.validation_step(batch, batch_idx)\n",
        "    val_total_predictions.extend(preds)\n",
        "val_total_predictions = np.argmax(np.asarray(val_total_predictions), axis=1)\n",
        "ground_truth = Y_val\n",
        "print(\"\\nValidation Accuracy:\", accuracy_score(val_total_predictions, ground_truth))\n",
        "print(\"Validation Precision:\", precision_score(val_total_predictions, ground_truth, average=\"micro\"))\n",
        "print(\"Validation Confusion Matrix:\\n\", confusion_matrix(val_total_predictions, ground_truth), \"\\n\\n\")\n",
        "\n",
        "test_total_predictions = list()\n",
        "for batch_idx, batch in tqdm(enumerate(test_data_loader), total=len(test_data_loader), desc=\"Predicting on Test set\"):\n",
        "    batch = (batch[0].to(device), batch[1].to(device))\n",
        "    _, preds = best_model.validation_step(batch, batch_idx)\n",
        "    test_total_predictions.extend(preds)\n",
        "test_total_predictions = np.argmax(np.asarray(test_total_predictions), axis=1)\n",
        "ground_truth = Y_test\n",
        "print(\"\\nTest Accuracy:\", accuracy_score(test_total_predictions, ground_truth))\n",
        "print(\"Test Precision:\", precision_score(test_total_predictions, ground_truth, average=\"micro\"))\n",
        "print(\"Test Confusion Matrix:\\n\", confusion_matrix(test_total_predictions, ground_truth), \"\\n\\n\")\n"
      ]
    },
    {
      "cell_type": "markdown",
      "metadata": {
        "id": "aDxQVl7z37iA"
      },
      "source": [
        "## Define the Pytorch Transformer model"
      ]
    },
    {
      "cell_type": "code",
      "execution_count": null,
      "metadata": {
        "id": "5OCfEreW37iB"
      },
      "outputs": [],
      "source": [
        "class Transformer(torch.nn.Module):\n",
        "    def __init__(self, vocab_size, d_model, num_heads, num_layers, d_ff, seq_len, dropout, num_classes):\n",
        "        super(Transformer, self).__init__()\n",
        "        # The encoder and decoder embeddings are going to be shared since this is not a translation task\n",
        "        self.encoder_embedding = self.decoder_embedding = EmbeddingLayer(d_model, vocab_size)\n",
        "        self.positional_encoding = PositionalEncodingLayer(d_model, seq_len, dropout)\n",
        "        encoder_layer = torch.nn.TransformerEncoderLayer(d_model=d_model, nhead=num_heads, dim_feedforward=d_ff, dropout=dropout, batch_first=True)\n",
        "        self.backbone = torch.nn.TransformerEncoder(encoder_layer, num_layers, norm=torch.nn.LayerNorm(d_model), enable_nested_tensor=True, mask_check=True)\n",
        "        # Final classification layer\n",
        "        self.fc = torch.nn.Linear(d_model, num_classes)\n",
        "        self.dropout = torch.nn.Dropout(dropout)\n",
        "        # Define the optimizer\n",
        "        self.optimizer = torch.optim.AdamW(self.parameters(), lr=0.0003)\n",
        "        # Define the objective function\n",
        "        self.criterion = torch.nn.CrossEntropyLoss()\n",
        "\n",
        "    # Generate masks to make sure that our model does not attend to <pad> tokens\n",
        "    def generate_mask(self, src):\n",
        "        src_mask = (src == 0)\n",
        "        return src_mask\n",
        "\n",
        "    def forward(self, src):\n",
        "        # Generate masks for the given sequence\n",
        "        src_mask = self.generate_mask(src)\n",
        "        # Get the embeddings\n",
        "        src_embedded = self.positional_encoding(self.encoder_embedding(src))\n",
        "        output = self.backbone(src_embedded, src_key_padding_mask=src_mask)\n",
        "        # Aggregate the final decoder layer output\n",
        "        output = torch.max(output, dim=1).values\n",
        "        # Perform classification\n",
        "        output = self.fc(output)\n",
        "        return output\n",
        "\n",
        "    def training_step(self, batch, batch_idx):\n",
        "        x, y = batch\n",
        "        self.optimizer.zero_grad()\n",
        "        preds = self.forward(x)\n",
        "        loss = self.criterion(preds, y)\n",
        "        loss.backward()\n",
        "        self.optimizer.step()\n",
        "        return loss.item(), preds.numpy(force=True)\n",
        "\n",
        "    def validation_step(self, batch, batch_idx):\n",
        "        x, y = batch\n",
        "        preds = self.forward(x)\n",
        "        loss = self.criterion(preds, y)\n",
        "        return loss.item(), preds.numpy(force=True)"
      ]
    },
    {
      "cell_type": "markdown",
      "metadata": {
        "id": "0x6LM9l637iC"
      },
      "source": [
        "## Perform training and validation using the PyTorch transformer"
      ]
    },
    {
      "cell_type": "code",
      "execution_count": null,
      "metadata": {
        "id": "9HcM09Td37iC",
        "outputId": "81564596-aec3-4158-c3d4-69c2ed6fe472",
        "colab": {
          "base_uri": "https://localhost:8080/"
        }
      },
      "outputs": [
        {
          "output_type": "stream",
          "name": "stderr",
          "text": [
            "train_loss: 0.43464387042654884\tval_loss:1.443366249402364: 100%|██████████| 100/100 [04:44<00:00,  2.85s/it]\n"
          ]
        }
      ],
      "source": [
        "model = Transformer(vocab_size, d_model, num_heads, num_enc_layers, d_ff, seq_len, dropout, num_classes)\n",
        "model.to(device)\n",
        "\n",
        "train_epoch_loss = list()\n",
        "val_epoch_loss = list()\n",
        "min_val_loss = np.inf\n",
        "pbar = tqdm(range(num_epochs))\n",
        "for epoch in pbar:\n",
        "    # Training loop\n",
        "    train_iter_loss = list()\n",
        "    model.train()\n",
        "    for batch_idx, batch in enumerate(train_data_loader):\n",
        "        batch = (batch[0].to(device), batch[1].to(device))\n",
        "        loss, _ = model.training_step(batch, batch_idx)\n",
        "        train_iter_loss.append(loss)\n",
        "    train_epoch_loss.append(sum(train_iter_loss)/len(train_iter_loss))\n",
        "\n",
        "    # Validation loop\n",
        "    val_iter_loss = list()\n",
        "    model.eval()\n",
        "    for batch_idx, batch in enumerate(val_data_loader):\n",
        "        batch = (batch[0].to(device), batch[1].to(device))\n",
        "        loss, _ = model.validation_step(batch, batch_idx)\n",
        "        val_iter_loss.append(loss)\n",
        "    val_epoch_loss.append(sum(val_iter_loss)/len(val_iter_loss))\n",
        "    if val_epoch_loss[-1] < min_val_loss:\n",
        "        min_val_loss = val_epoch_loss[-1]\n",
        "        best_model = deepcopy(model)\n",
        "    pbar.set_description(\"train_loss: \"+str(train_epoch_loss[-1])+\"\\tval_loss:\"+str(val_epoch_loss[-1]))"
      ]
    },
    {
      "cell_type": "markdown",
      "metadata": {
        "id": "9uqwX_JG37iD"
      },
      "source": [
        "## Plot the training and validation losses"
      ]
    },
    {
      "cell_type": "code",
      "execution_count": null,
      "metadata": {
        "id": "0lfgX33L37iD",
        "outputId": "eec84a5d-170e-41f7-88db-07080e93edd2",
        "colab": {
          "base_uri": "https://localhost:8080/",
          "height": 476
        }
      },
      "outputs": [
        {
          "output_type": "execute_result",
          "data": {
            "text/plain": [
              "<matplotlib.legend.Legend at 0x7e6f94cd8e90>"
            ]
          },
          "metadata": {},
          "execution_count": 57
        },
        {
          "output_type": "display_data",
          "data": {
            "text/plain": [
              "<Figure size 640x480 with 1 Axes>"
            ],
            "image/png": "[encoded data removed]"
          },
          "metadata": {}
        }
      ],
      "source": [
        "sns.lineplot(x=np.arange(num_epochs), y=train_epoch_loss, label=\"Train loss\")\n",
        "sns.lineplot(x=np.arange(num_epochs), y=val_epoch_loss, label=\"Val loss\")\n",
        "plt.xlabel(\"Epochs\")\n",
        "plt.ylabel(\"Loss\")\n",
        "plt.legend()"
      ]
    },
    {
      "cell_type": "markdown",
      "metadata": {
        "id": "0lUeflDb37iE"
      },
      "source": [
        "## Get all the predictions on the train and validation set"
      ]
    },
    {
      "cell_type": "code",
      "execution_count": null,
      "metadata": {
        "id": "XFPM2NGO37iE",
        "outputId": "d8b2d78f-9f64-4bec-a44e-1c7730b95259",
        "colab": {
          "base_uri": "https://localhost:8080/"
        }
      },
      "outputs": [
        {
          "output_type": "stream",
          "name": "stderr",
          "text": [
            "Predicting on Train set: 100%|██████████| 36/36 [00:00<00:00, 42.78it/s]"
          ]
        },
        {
          "output_type": "stream",
          "name": "stdout",
          "text": [
            "\n",
            "Train Accuracy: 0.905645784996133\n",
            "Train Precision: 0.905645784996133\n",
            "Train Confusion Matrix:\n",
            " [[354   0   0   0   0   0   0   0   0   0   0   0   0   0   0   1   3   2\n",
            "    6  10]\n",
            " [  0 442  19  11   6  19   1   2   0   1   2   0  10   2   0   2   0   0\n",
            "    0   1]\n",
            " [  0  14 436  14  10   4   2   0   1   0   0   0   1   1   1   0   0   0\n",
            "    0   0]\n",
            " [  0   2   9 432  65   1  25   3   0   0   0   0  62   0   0   0   0   0\n",
            "    0   0]\n",
            " [  0   1   3   9 373   0   5   5   1   0   0   1  60   1   1   0   0   0\n",
            "    1   0]\n",
            " [  0   7   6   0   0 450   1   1   0   0   4   2   1   0   1   0   0   0\n",
            "    0   0]\n",
            " [  0   0   0   3   6   0 412  10   3   0   0   0  10   1   0   0   0   1\n",
            "    0   0]\n",
            " [  0   0   0   0   1   0   6 390   7   1   0   0  10   1   0   0   1   0\n",
            "    0   0]\n",
            " [  2   0   0   1   0   0   4  44 463   0   0   0   1   4   0   0   0   0\n",
            "    3   0]\n",
            " [  0   0   0   0   0   0   0   3   0 463   5   2   1   8   0   0   2   0\n",
            "    5   0]\n",
            " [  0   1   0   0   0   0   1   0   0   9 466   0   1   0   2   0   0   0\n",
            "    0   0]\n",
            " [  1   0   0   1   0   0   0   1   0   0   0 464   0   0   5   1   3   0\n",
            "    5   0]\n",
            " [  0   0   0   1   2   0   3   3   0   0   0   0 309   3   2   0   0   0\n",
            "    0   0]\n",
            " [  1   0   0   0   0   0   4   6   1   1   2   0   2 446   2   1   1   1\n",
            "    3   0]\n",
            " [  0   0   0   0   0   0   4   4   1   1   0   0   2   5 457   0   0   0\n",
            "    3   1]\n",
            " [ 13   0   0   0   0   0   0   0   0   1   0   0   0   0   0 462   1   3\n",
            "    0 106]\n",
            " [  0   0   0   0   0   0   0   2   1   0   0   5   1   0   1   1 422   2\n",
            "    7   3]\n",
            " [  2   0   0   0   0   0   0   0   0   0   0   0   1   1   0   2   0 442\n",
            "    2   3]\n",
            " [  1   0   0   0   0   0   0   1   0   1   0   2   0   2   2   0   2   0\n",
            "  337   1]\n",
            " [ 10   0   0   0   0   0   0   0   0   0   1   0   1   0   0   9   2   0\n",
            "    0 177]] \n",
            "\n",
            "\n"
          ]
        },
        {
          "output_type": "stream",
          "name": "stderr",
          "text": [
            "\n",
            "Predicting on Val set: 100%|██████████| 9/9 [00:00<00:00, 38.00it/s]"
          ]
        },
        {
          "output_type": "stream",
          "name": "stdout",
          "text": [
            "\n",
            "Validation Accuracy: 0.6469288555015467\n",
            "Validation Precision: 0.6469288555015467\n",
            "Validation Confusion Matrix:\n",
            " [[ 70   0   0   1   1   0   0   0   0   1   0   1   1   0   1   1   4   4\n",
            "    2   4]\n",
            " [  0  57  11  15   5   4   0   0   0   1   2   0   3   3   2   1   0   0\n",
            "    0   1]\n",
            " [  0   2  57   2   1   2   0   0   1   0   0   0   1   0   0   0   0   0\n",
            "    0   0]\n",
            " [  0   8  12  59  15   0   5   2   0   0   0   0  15   0   1   0   1   1\n",
            "    0   0]\n",
            " [  0   0   4   9  49   0   1   1   0   0   0   0   3   0   1   0   0   0\n",
            "    0   0]\n",
            " [  0  12  12   1   1  81   0   0   0   0   2   1   2   0   2   0   0   0\n",
            "    0   0]\n",
            " [  0   5   1   6   4   1  83   5   3   0   0   0   7   0   0   0   2   0\n",
            "    2   0]\n",
            " [  1   0   0   1   0   0   0  78   8   0   0   0   5   0   0   0   1   1\n",
            "    1   1]\n",
            " [  0   0   2   0   2   0   2   6  89   0   0   0   3   2   1   0   1   0\n",
            "    0   0]\n",
            " [  1   9   6   5  13  15  14   8   8 106  10  11  13  29   4   5   6   2\n",
            "   19   4]\n",
            " [  6  22   7  10  12  15   5   1   0   6 104   2  12   8   9   8   4   2\n",
            "    7  10]\n",
            " [  1   0   0   0   0   0   0   1   1   0   0  98   3   0   0   0   1   0\n",
            "    1   0]\n",
            " [  0   0   2   4   4   0   1   2   0   0   0   0  30   0   1   0   0   0\n",
            "    0   0]\n",
            " [  0   2   4   4   6   0   6   9   6   4   0   1  15  73   5   3   1   0\n",
            "    1   1]\n",
            " [  1   0   0   0   1   1   0   1   3   1   0   0   3   2  87   0   1   0\n",
            "    1   0]\n",
            " [  7   0   0   1   0   0   0   0   0   0   0   0   1   0   0  90   2   2\n",
            "    2  26]\n",
            " [  0   0   0   0   0   0   0   2   0   0   0   1   0   0   2   1  80   2\n",
            "    8   0]\n",
            " [  1   0   0   0   0   0   0   1   0   0   0   1   0   2   0   4   3  97\n",
            "    0   0]\n",
            " [  0   0   0   0   1   0   0   1   1   0   1   2   0   0   2   0   1   2\n",
            "   49   1]\n",
            " [  8   0   0   0   0   0   0   1   0   0   1   1   1   0   1   7   1   0\n",
            "    0  27]] \n",
            "\n",
            "\n"
          ]
        },
        {
          "output_type": "stream",
          "name": "stderr",
          "text": [
            "\n",
            "Predicting on Test set: 100%|██████████| 30/30 [00:00<00:00, 48.05it/s]"
          ]
        },
        {
          "output_type": "stream",
          "name": "stdout",
          "text": [
            "\n",
            "Test Accuracy: 0.5249601699415826\n",
            "Test Precision: 0.5249601699415826\n",
            "Test Confusion Matrix:\n",
            " [[130   0   0   0   2   0   0   1   0   0   0   3   0   4   4  12  16  15\n",
            "    7  18]\n",
            " [  0 133  57  57  22  34   2   1   0   5   3   0  28   2   4   2   2   0\n",
            "    1   1]\n",
            " [  0   8 106  12   4   6   1   3   1   0   0   0   5   1   0   1   0   0\n",
            "    0   0]\n",
            " [  0  15  48 184  36   5  13   3   0   0   0   2  25   0   0   1   0   0\n",
            "    0   0]\n",
            " [  1   3   9  16 149   0   7   2   0   1   0   2  14   1   2   0   0   0\n",
            "    0   0]\n",
            " [  1  31  65   3   2 198   1   0   0   2   2  13   3   0   1   0   0   0\n",
            "    0   0]\n",
            " [  0   2   2  23  14   3 272  11   6   2   0   0  15   1   3   0   3   0\n",
            "    1   0]\n",
            " [  0   0   1   3   4   0   7 204  20   1   0   3  12   3   0   0   1   0\n",
            "    5   1]\n",
            " [  0   1   5   0   1   0   2  12 284   1   0   2   6   1   3   0   1   1\n",
            "    2   1]\n",
            " [ 19  53  38  33  57  60  48  75  48 332  38  46  77 167  44   8  56  27\n",
            "   66  21]\n",
            " [ 22 119  37  29  41  84  11   8   7  39 347  20  56  62  44  47   9  12\n",
            "   20  39]\n",
            " [  6   0   1   0   0   1   1   0   4   0   0 257   6   0   1   0   5   0\n",
            "    5   1]\n",
            " [  1   2   0  16  10   0   3   2   0   0   0   2  65   0   0   0   0   2\n",
            "    0   1]\n",
            " [  8  14  20  15  30   2  16  62  15   7   3   3  68 133  25   5  14  15\n",
            "   15   4]\n",
            " [ 10   4   1   0   9   2   2   2   3   4   3  10   6   2 253   4   5   2\n",
            "    0   1]\n",
            " [ 51   0   2   0   2   0   0   3   0   0   0   0   3   3   1 276   7  13\n",
            "    2  75]\n",
            " [  8   0   0   0   0   0   1   3   3   1   1  17   1   2   4   1 211  17\n",
            "   72  19]\n",
            " [ 16   1   0   0   1   0   3   2   1   0   2   1   2  10   4  13  12 262\n",
            "    7   8]\n",
            " [ 12   1   1   1   0   0   0   2   6   1   0  13   0   2   1   3  13   5\n",
            "   99   2]\n",
            " [ 34   2   1   0   1   0   0   0   0   1   0   2   1   2   0  25   9   5\n",
            "    8  59]] \n",
            "\n",
            "\n"
          ]
        },
        {
          "output_type": "stream",
          "name": "stderr",
          "text": [
            "\n"
          ]
        }
      ],
      "source": [
        "train_data_loader_copy = DataLoader(TensorDataset(torch.tensor(X_train), torch.tensor(Y_train)), batch_size=batch_size, num_workers=num_workers, shuffle=False)\n",
        "train_total_predictions = list()\n",
        "for batch_idx, batch in tqdm(enumerate(train_data_loader_copy), total=len(train_data_loader_copy), desc=\"Predicting on Train set\"):\n",
        "    batch = (batch[0].to(device), batch[1].to(device))\n",
        "    _, preds = best_model.validation_step(batch, batch_idx)\n",
        "    train_total_predictions.extend(preds)\n",
        "train_total_predictions = np.argmax(np.asarray(train_total_predictions), axis=1)\n",
        "ground_truth = Y_train\n",
        "print(\"\\nTrain Accuracy:\", accuracy_score(train_total_predictions, ground_truth))\n",
        "print(\"Train Precision:\", precision_score(train_total_predictions, ground_truth, average=\"micro\"))\n",
        "print(\"Train Confusion Matrix:\\n\", confusion_matrix(train_total_predictions, ground_truth), \"\\n\\n\")\n",
        "\n",
        "val_total_predictions = list()\n",
        "for batch_idx, batch in tqdm(enumerate(val_data_loader), total=len(val_data_loader), desc=\"Predicting on Val set\"):\n",
        "    batch = (batch[0].to(device), batch[1].to(device))\n",
        "    _, preds = best_model.validation_step(batch, batch_idx)\n",
        "    val_total_predictions.extend(preds)\n",
        "val_total_predictions = np.argmax(np.asarray(val_total_predictions), axis=1)\n",
        "ground_truth = Y_val\n",
        "print(\"\\nValidation Accuracy:\", accuracy_score(val_total_predictions, ground_truth))\n",
        "print(\"Validation Precision:\", precision_score(val_total_predictions, ground_truth, average=\"micro\"))\n",
        "print(\"Validation Confusion Matrix:\\n\", confusion_matrix(val_total_predictions, ground_truth), \"\\n\\n\")\n",
        "\n",
        "test_total_predictions = list()\n",
        "for batch_idx, batch in tqdm(enumerate(test_data_loader), total=len(test_data_loader), desc=\"Predicting on Test set\"):\n",
        "    batch = (batch[0].to(device), batch[1].to(device))\n",
        "    _, preds = best_model.validation_step(batch, batch_idx)\n",
        "    test_total_predictions.extend(preds)\n",
        "test_total_predictions = np.argmax(np.asarray(test_total_predictions), axis=1)\n",
        "ground_truth = Y_test\n",
        "print(\"\\nTest Accuracy:\", accuracy_score(test_total_predictions, ground_truth))\n",
        "print(\"Test Precision:\", precision_score(test_total_predictions, ground_truth, average=\"micro\"))\n",
        "print(\"Test Confusion Matrix:\\n\", confusion_matrix(test_total_predictions, ground_truth), \"\\n\\n\")\n"
      ]
    },
    {
      "cell_type": "code",
      "execution_count": null,
      "metadata": {
        "id": "yl9tnecE37iF"
      },
      "outputs": [],
      "source": []
    }
  ],
  "metadata": {
    "accelerator": "GPU",
    "colab": {
      "gpuType": "T4",
      "provenance": [],
      "include_colab_link": true
    },
    "kernelspec": {
      "display_name": "atif",
      "language": "python",
      "name": "python3"
    },
    "language_info": {
      "codemirror_mode": {
        "name": "ipython",
        "version": 3
      },
      "file_extension": ".py",
      "mimetype": "text/x-python",
      "name": "python",
      "nbconvert_exporter": "python",
      "pygments_lexer": "ipython3",
      "version": "3.12.3"
    }
  },
  "nbformat": 4,
  "nbformat_minor": 0
}